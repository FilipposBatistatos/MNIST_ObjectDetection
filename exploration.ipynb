{
 "cells": [
  {
   "cell_type": "markdown",
   "id": "b9e9f786",
   "metadata": {},
   "source": [
    "# MNIST\n",
    "The MNIST dataset is a set of 60,000 handwritten numbers with their labels. This exercise will use this dataset as a way to explore how to use PyTorch."
   ]
  },
  {
   "cell_type": "markdown",
   "id": "460015ee",
   "metadata": {},
   "source": [
    "## Libraries\n",
    "- **PyTorch** \n",
    "- **MNIST** for the dataset\n",
    "- **NumPy** for data manipulation\n",
    "- **Matplotlib** for visualisation\n",
    "- **scikit-learn** for metrics"
   ]
  },
  {
   "cell_type": "code",
   "execution_count": 23,
   "id": "67f5f343",
   "metadata": {},
   "outputs": [],
   "source": [
    "import torchvision\n",
    "import torchvision.transforms as transforms\n",
    "\n",
    "transform = transforms.Compose([\n",
    "    transforms.ToTensor(), #Convert to tensor and normalise\n",
    "])\n",
    "\n",
    "train_dataset = torchvision.datasets.MNIST(\n",
    "    root='./data',\n",
    "    train=True,\n",
    "    download=True,\n",
    "    transform=transform\n",
    ")\n",
    "\n",
    "test_dataset = torchvision.datasets.MNIST(\n",
    "    root='./data',\n",
    "    train=False,\n",
    "    download=True,\n",
    "    transform=transform\n",
    ")"
   ]
  },
  {
   "cell_type": "code",
   "execution_count": 24,
   "id": "afd11802",
   "metadata": {},
   "outputs": [
    {
     "name": "stdout",
     "output_type": "stream",
     "text": [
      "Training dataset size: 60000\n",
      "Test dataset size: 10000\n"
     ]
    }
   ],
   "source": [
    "print(f\"Training dataset size: {len(train_dataset)}\")\n",
    "print(f\"Test dataset size: {len(test_dataset)}\")"
   ]
  },
  {
   "cell_type": "markdown",
   "id": "62090f53",
   "metadata": {},
   "source": [
    "Visualise the dataset"
   ]
  },
  {
   "cell_type": "code",
   "execution_count": 25,
   "id": "f52b5df4",
   "metadata": {},
   "outputs": [
    {
     "data": {
      "image/png": "[encoded data removed]",
      "text/plain": [
       "<Figure size 600x600 with 1 Axes>"
      ]
     },
     "metadata": {},
     "output_type": "display_data"
    }
   ],
   "source": [
    "import matplotlib.pyplot as plt\n",
    "import numpy as np\n",
    "\n",
    "first_image, first_label = train_dataset[0]\n",
    "first_image_np = first_image.squeeze().numpy()\n",
    "\n",
    "plt.figure(figsize=(6,6))\n",
    "plt.imshow(first_image_np, cmap='grey')\n",
    "plt.title(f\"First Training Image - Label: {first_label}\")\n",
    "plt.axis('off')\n",
    "plt.show()"
   ]
  },
  {
   "cell_type": "code",
   "execution_count": 26,
   "id": "34166e9f",
   "metadata": {},
   "outputs": [
    {
     "data": {
      "image/png": "[encoded data removed]",
      "text/plain": [
       "<Figure size 1200x600 with 10 Axes>"
      ]
     },
     "metadata": {},
     "output_type": "display_data"
    }
   ],
   "source": [
    "fig, axes = plt.subplots(2, 5, figsize=(12, 6))\n",
    "\n",
    "for i in range(10):\n",
    "    image, label = train_dataset[i]\n",
    "\n",
    "    image_np = image.squeeze().numpy()\n",
    "\n",
    "    row = i // 5\n",
    "    col = i % 5\n",
    "\n",
    "    axes[row, col].imshow(image_np, cmap='gray')\n",
    "    axes[row, col].set_title(f\"Label:{label}\")\n",
    "    axes[row, col].axis('off')\n",
    "\n",
    "plt.tight_layout()\n",
    "plt.show()"
   ]
  },
  {
   "cell_type": "markdown",
   "id": "8dd0fba7",
   "metadata": {},
   "source": [
    "## Data preporation\n",
    "Neural networks work better with batched data\n",
    "We can use DataLoader to group images into batches and shuffle them"
   ]
  },
  {
   "cell_type": "code",
   "execution_count": 28,
   "id": "3ccaf04f",
   "metadata": {},
   "outputs": [],
   "source": [
    "from torch.utils.data import DataLoader\n",
    "\n",
    "BATCH_SIZE = 64\n",
    "\n",
    "train_loader = DataLoader(\n",
    "    dataset=train_dataset, \n",
    "    batch_size=BATCH_SIZE, \n",
    "    shuffle=True, \n",
    "    num_workers=4\n",
    ")\n",
    "\n",
    "test_loader = DataLoader(\n",
    "    dataset=test_dataset, \n",
    "    batch_size=BATCH_SIZE, \n",
    "    shuffle=False, \n",
    "    num_workers=4\n",
    ")"
   ]
  },
  {
   "cell_type": "markdown",
   "id": "fa505183",
   "metadata": {},
   "source": [
    "Neurons!"
   ]
  },
  {
   "cell_type": "code",
   "execution_count": 36,
   "id": "986c8101",
   "metadata": {},
   "outputs": [],
   "source": [
    "import torch\n",
    "import torch.nn as nn\n",
    "import torch.nn.functional as F\n",
    "\n",
    "class SimpleNeuralNetwork(nn.Module):\n",
    "    def __init__(self):\n",
    "        super(SimpleNeuralNetwork, self).__init__()\n",
    "\n",
    "        # Convert image from 28x28 to a 784 element vector\n",
    "        self.flatten = nn.Flatten() \n",
    "        # Fully connected layer 784in 128out\n",
    "        self.fc1 = nn.Linear(in_features=784, out_features=128)\n",
    "        # Fully connected layer 128in 64out\n",
    "        self.fc2 = nn.Linear(in_features=128, out_features=64)\n",
    "        # Output layer 64in 10out\n",
    "        self.fc3 = nn.Linear(in_features=64, out_features=10)\n",
    "        # Activation function\n",
    "        self.relu = nn.ReLU()\n",
    "\n",
    "        # Dropout for regularisation/overfit prevention\n",
    "        self.dropout = nn.Dropout(p=0.2) # 20% of neurons set to 0\n",
    "\n",
    "    def forward(self, x):\n",
    "        x = self.flatten(x)\n",
    "\n",
    "        # Run through first layer\n",
    "        x = self.fc1(x)     # Run through first layer\n",
    "        x = self.relu(x)    # Apply ReLU: negative values become 0\n",
    "        x = self.dropout(x) # Randomly set some neurons to 0 \n",
    "\n",
    "        # Second layer\n",
    "        x = self.fc2(x)\n",
    "        x = self.relu(x)\n",
    "\n",
    "        # Output layer\n",
    "        x = self.fc3(x)\n",
    "\n",
    "        return x\n",
    "\n",
    "    def count_parameters(self):\n",
    "        return sum(p.numel() for p in self.parameters() if p.requires_grad)\n",
    "\n"
   ]
  },
  {
   "cell_type": "code",
   "execution_count": 34,
   "id": "00457522",
   "metadata": {},
   "outputs": [
    {
     "name": "stdout",
     "output_type": "stream",
     "text": [
      "SimpleNeuralNetwork(\n",
      "  (flatten): Flatten(start_dim=1, end_dim=-1)\n",
      "  (fc1): Linear(in_features=784, out_features=128, bias=True)\n",
      "  (fc2): Linear(in_features=128, out_features=64, bias=True)\n",
      "  (fc3): Linear(in_features=64, out_features=10, bias=True)\n",
      "  (relu): ReLU()\n",
      "  (dropout): Dropout(p=0.2, inplace=False)\n",
      ")\n",
      "Number of parameters:109386\n"
     ]
    }
   ],
   "source": [
    "model = SimpleNeuralNetwork()\n",
    "print(model)\n",
    "print(f\"Number of parameters:{model.count_parameters()}\")"
   ]
  },
  {
   "cell_type": "code",
   "execution_count": 37,
   "id": "35a93a65",
   "metadata": {},
   "outputs": [
    {
     "name": "stdout",
     "output_type": "stream",
     "text": [
      "Output shape: torch.Size([5, 10])\n",
      "Output: tensor([-0.2360, -0.1772, -0.0257, -0.2500, -0.0325,  0.0195,  0.1699,  0.0418,\n",
      "         0.1419, -0.0407])\n",
      "Prediction: 6\n"
     ]
    }
   ],
   "source": [
    "# Testing the network works\n",
    "batch = 5\n",
    "fake_images = torch.randn(batch, 1, 28, 28)\n",
    "\n",
    "model.eval()\n",
    "with torch.no_grad():\n",
    "    output = model(fake_images)\n",
    "\n",
    "print(f\"Output shape: {output.shape}\")\n",
    "print(f\"Output: {output[0]}\")\n",
    "print(f\"Prediction: {(torch.argmax(output[0])).item()}\")"
   ]
  },
  {
   "cell_type": "markdown",
   "id": "af71dbfa",
   "metadata": {},
   "source": [
    "## Training Setup\n",
    "Attributes of training:\n",
    "1. Loss function - Evaluate how wrong our predictions is\n",
    "2. Optimiser - How do we update weight to improve"
   ]
  },
  {
   "cell_type": "code",
   "execution_count": 49,
   "id": "ad9e00ec",
   "metadata": {},
   "outputs": [],
   "source": [
    "def train_one_epoch(model, train_loader, criterion, optimiser, device, epoch_num):\n",
    "    # Set model to training mode\n",
    "    model.train()\n",
    "    \n",
    "    total_loss = 0.0\n",
    "    total_correct = 0\n",
    "    total_samples = 0\n",
    "    batch_count = 0\n",
    "\n",
    "    for batch_idx, (images, labels) in enumerate(train_loader):\n",
    "        # Move data to the device\n",
    "        images = images.to(device)\n",
    "        labels = labels.to(device)\n",
    "\n",
    "        # Zero the gradients - effectively reset the optimiser\n",
    "        optimiser.zero_grad()\n",
    "\n",
    "        # Forward pass\n",
    "        outputs = model(images)\n",
    "\n",
    "        # Loss calculation\n",
    "        loss = criterion(outputs, labels)   \n",
    "        loss.backward() # Backward pass\n",
    "\n",
    "        optimiser.step() # Update weights\n",
    "\n",
    "        total_loss += loss.item()\n",
    "        _, predicted = torch.max(outputs.data, 1)\n",
    "        total_samples += labels.size(0)\n",
    "        total_correct += (predicted == labels).sum().item()\n",
    "        batch_count += 1\n",
    "\n",
    "    avg_loss = total_loss / batch_count\n",
    "    avg_accuracy = total_correct/total_samples\n",
    "\n",
    "    print(f'    Average Loss: {avg_loss:.4f}')\n",
    "    print(f'    Average accuracy: {avg_accuracy:.4f} ({total_correct}/{total_samples})')\n",
    "\n",
    "    return avg_loss, avg_accuracy\n",
    "\n",
    "def evaluate_model(model, test_loader, criterion, device):\n",
    "    # Put model in evaluation mode\n",
    "    model.eval()\n",
    "\n",
    "    total_loss = 0.0\n",
    "    total_correct = 0\n",
    "    total_samples = 0\n",
    "    batch_count = 0\n",
    "\n",
    "    with torch.no_grad():\n",
    "        for images, labels in test_loader:\n",
    "            # repeat training steps -- Probably a way to improve this\n",
    "            images = images.to(device)\n",
    "            labels = labels.to(device)\n",
    "\n",
    "            outputs = model(images)\n",
    "            \n",
    "            loss = criterion(outputs, labels)\n",
    "\n",
    "            total_loss += loss.item()\n",
    "            _, predicted = torch.max(outputs.data, 1)\n",
    "            total_samples += labels.size(0)\n",
    "            total_correct += (predicted == labels).sum().item()\n",
    "            batch_count += 1\n",
    "\n",
    "    avg_loss = total_loss / batch_count\n",
    "    avg_accuracy = total_correct/total_samples\n",
    "\n",
    "    print(f'    Average Loss: {avg_loss:.4f}')\n",
    "    print(f'    Average accuracy: {avg_accuracy:.4f} ({total_correct}/{total_samples})')\n",
    "\n",
    "    return avg_loss, avg_accuracy"
   ]
  },
  {
   "cell_type": "code",
   "execution_count": null,
   "id": "641af5d0",
   "metadata": {},
   "outputs": [],
   "source": [
    "import torch.optim as optim\n",
    "\n",
    "def train(model, train_loader, test_loader, num_epoch=10, learning_rate=0.001):\n",
    "    # Define the device where the training will take place CPU vs GPU\n",
    "    device = torch.device('cuda' if torch.cuda.is_available() else 'cpu')\n",
    "    model = model.to(device)\n",
    "\n",
    "    # Loss function\n",
    "    criterion = nn.CrossEntropyLoss()\n",
    "\n",
    "    # Optimiser\n",
    "    optimiser = optim.Adam(model.parameters(), lr=learning_rate)\n",
    "    \n",
    "    history = {\n",
    "        'train_loss':[],\n",
    "        'train_accuracy':[],\n",
    "        'test_loss':[],\n",
    "        'test_accuracy': []\n",
    "    }\n",
    "\n",
    "    for epoch in range(1, num_epoch + 1):\n",
    "        print(f\"\\n{'='*50}\")\n",
    "        print(f\"EPOCH {epoch}/{num_epoch}\")\n",
    "        print(f\"{'='*50}\")\n",
    "\n",
    "        train_loss, train_acc = train_one_epoch(\n",
    "            model, train_loader, criterion, optimiser, device, epoch\n",
    "        )\n",
    "\n",
    "        test_loss, test_acc = evaluate_model(model, test_loader, criterion, device)\n",
    "\n",
    "        history['train_loss'].append(train_loss)\n",
    "        history['train_accuracy'].append(train_acc)\n",
    "        history['test_loss'].append(test_loss)\n",
    "        history['test_accuracy'].append(test_acc)\n",
    "\n",
    "        print(f\"Train → Loss: {train_loss:.4f}, Accuracy: {train_acc:.4f}\")\n",
    "        print(f\"Test  → Loss: {test_loss:.4f}, Accuracy: {test_acc:.4f}\")\n",
    "        if epoch != 1:\n",
    "            print(f\"Accuracy: {(test_acc - history['test_accuracy'][-2]):.4f}\")\n",
    "\n",
    "    print(f\"Training complete with final accuracy: {history['test_accuracy'][-1]:.4f}\")\n",
    "\n",
    "    return model, history"
   ]
  },
  {
   "cell_type": "code",
   "execution_count": 48,
   "id": "a74e17c0",
   "metadata": {},
   "outputs": [
    {
     "name": "stdout",
     "output_type": "stream",
     "text": [
      "\n",
      "==================================================\n",
      "EPOCH 1/10\n",
      "\n",
      "==================================================\n"
     ]
    },
    {
     "ename": "ZeroDivisionError",
     "evalue": "float division by zero",
     "output_type": "error",
     "traceback": [
      "\u001b[31m---------------------------------------------------------------------------\u001b[39m",
      "\u001b[31mZeroDivisionError\u001b[39m                         Traceback (most recent call last)",
      "\u001b[36mCell\u001b[39m\u001b[36m \u001b[39m\u001b[32mIn[48]\u001b[39m\u001b[32m, line 1\u001b[39m\n\u001b[32m----> \u001b[39m\u001b[32m1\u001b[39m trained_model, history = \u001b[43mtrain\u001b[49m\u001b[43m(\u001b[49m\u001b[43mmodel\u001b[49m\u001b[43m,\u001b[49m\u001b[43m \u001b[49m\u001b[43mtrain_loader\u001b[49m\u001b[43m,\u001b[49m\u001b[43m \u001b[49m\u001b[43mtest_loader\u001b[49m\u001b[43m)\u001b[49m\n",
      "\u001b[36mCell\u001b[39m\u001b[36m \u001b[39m\u001b[32mIn[46]\u001b[39m\u001b[32m, line 26\u001b[39m, in \u001b[36mtrain\u001b[39m\u001b[34m(model, train_loader, test_loader, num_epoch, learning_rate)\u001b[39m\n\u001b[32m     23\u001b[39m \u001b[38;5;28mprint\u001b[39m(\u001b[33mf\u001b[39m\u001b[33m\"\u001b[39m\u001b[33mEPOCH \u001b[39m\u001b[38;5;132;01m{\u001b[39;00mepoch\u001b[38;5;132;01m}\u001b[39;00m\u001b[33m/\u001b[39m\u001b[38;5;132;01m{\u001b[39;00mnum_epoch\u001b[38;5;132;01m}\u001b[39;00m\u001b[33m\"\u001b[39m)\n\u001b[32m     24\u001b[39m \u001b[38;5;28mprint\u001b[39m(\u001b[33mf\u001b[39m\u001b[33m\"\u001b[39m\u001b[38;5;130;01m\\n\u001b[39;00m\u001b[38;5;132;01m{\u001b[39;00m\u001b[33m'\u001b[39m\u001b[33m=\u001b[39m\u001b[33m'\u001b[39m*\u001b[32m50\u001b[39m\u001b[38;5;132;01m}\u001b[39;00m\u001b[33m\"\u001b[39m)\n\u001b[32m---> \u001b[39m\u001b[32m26\u001b[39m train_loss, train_acc = \u001b[43mtrain_one_epoch\u001b[49m\u001b[43m(\u001b[49m\n\u001b[32m     27\u001b[39m \u001b[43m    \u001b[49m\u001b[43mmodel\u001b[49m\u001b[43m,\u001b[49m\u001b[43m \u001b[49m\u001b[43mtrain_loader\u001b[49m\u001b[43m,\u001b[49m\u001b[43m \u001b[49m\u001b[43mcriterion\u001b[49m\u001b[43m,\u001b[49m\u001b[43m \u001b[49m\u001b[43moptimiser\u001b[49m\u001b[43m,\u001b[49m\u001b[43m \u001b[49m\u001b[43mdevice\u001b[49m\u001b[43m,\u001b[49m\u001b[43m \u001b[49m\u001b[43mepoch\u001b[49m\n\u001b[32m     28\u001b[39m \u001b[43m\u001b[49m\u001b[43m)\u001b[49m\n\u001b[32m     30\u001b[39m test_loss, test_acc = evaluate_model(model, test_loader, criterion, device)\n\u001b[32m     32\u001b[39m history[\u001b[33m'\u001b[39m\u001b[33mtrain_loss\u001b[39m\u001b[33m'\u001b[39m].append(train_loss)\n",
      "\u001b[36mCell\u001b[39m\u001b[36m \u001b[39m\u001b[32mIn[40]\u001b[39m\u001b[32m, line 32\u001b[39m, in \u001b[36mtrain_one_epoch\u001b[39m\u001b[34m(model, train_loader, criterion, optimiser, device, epoch_num)\u001b[39m\n\u001b[32m     29\u001b[39m     total_samples += labels.size(\u001b[32m0\u001b[39m)\n\u001b[32m     30\u001b[39m     total_correct += (predicted == labels).sum().item()\n\u001b[32m---> \u001b[39m\u001b[32m32\u001b[39m avg_loss = \u001b[43mtotal_loss\u001b[49m\u001b[43m \u001b[49m\u001b[43m/\u001b[49m\u001b[43m \u001b[49m\u001b[43mbatch_count\u001b[49m\n\u001b[32m     33\u001b[39m avg_accuracy = total_correct/total_samples\n\u001b[32m     35\u001b[39m \u001b[38;5;28mprint\u001b[39m(\u001b[33mf\u001b[39m\u001b[33m'\u001b[39m\u001b[33m    Average Loss: \u001b[39m\u001b[38;5;132;01m{\u001b[39;00mavg_loss\u001b[38;5;132;01m:\u001b[39;00m\u001b[33m.4f\u001b[39m\u001b[38;5;132;01m}\u001b[39;00m\u001b[33m'\u001b[39m)\n",
      "\u001b[31mZeroDivisionError\u001b[39m: float division by zero"
     ]
    }
   ],
   "source": [
    "trained_model, history = train(model, train_loader, test_loader)"
   ]
  }
 ],
 "metadata": {
  "kernelspec": {
   "display_name": "venv",
   "language": "python",
   "name": "python3"
  },
  "language_info": {
   "codemirror_mode": {
    "name": "ipython",
    "version": 3
   },
   "file_extension": ".py",
   "mimetype": "text/x-python",
   "name": "python",
   "nbconvert_exporter": "python",
   "pygments_lexer": "ipython3",
   "version": "3.11.9"
  }
 },
 "nbformat": 4,
 "nbformat_minor": 5
}
