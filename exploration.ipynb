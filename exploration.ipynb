{
 "cells": [
  {
   "cell_type": "markdown",
   "id": "b9e9f786",
   "metadata": {},
   "source": [
    "# MNIST\n",
    "The MNIST dataset is a set of 60,000 handwritten numbers with their labels. This exercise will use this dataset as a way to explore how to use PyTorch."
   ]
  },
  {
   "cell_type": "markdown",
   "id": "460015ee",
   "metadata": {},
   "source": [
    "## Libraries\n",
    "- *PyTorch* for nn and datasets\n",
    "- *NumPy* for data manipulation\n",
    "- *Matplotlib* for visualisation\n",
    "- *scikit-learn* for metrics"
   ]
  }
 ],
 "metadata": {
  "language_info": {
   "name": "python"
  }
 },
 "nbformat": 4,
 "nbformat_minor": 5
}
