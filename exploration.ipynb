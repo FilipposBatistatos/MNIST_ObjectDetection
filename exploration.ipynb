{
 "cells": [
  {
   "cell_type": "markdown",
   "id": "b9e9f786",
   "metadata": {},
   "source": [
    "# MNIST\n",
    "The MNIST dataset is a set of 60,000 handwritten numbers with their labels. This exercise will use this dataset as a way to explore how to use PyTorch."
   ]
  },
  {
   "cell_type": "markdown",
   "id": "460015ee",
   "metadata": {},
   "source": [
    "## Libraries\n",
    "- **PyTorch** \n",
    "- **MNIST** for the dataset\n",
    "- **NumPy** for data manipulation\n",
    "- **Matplotlib** for visualisation\n",
    "- **scikit-learn** for metrics"
   ]
  },
  {
   "cell_type": "code",
   "execution_count": 1,
   "id": "67f5f343",
   "metadata": {},
   "outputs": [],
   "source": [
    "import torchvision\n",
    "import torchvision.transforms as transforms\n",
    "\n",
    "transform = transforms.Compose([\n",
    "    transforms.ToTensor(), #Convert to tensor and normalise\n",
    "])\n",
    "\n",
    "train_dataset = torchvision.datasets.MNIST(\n",
    "    root='./data',\n",
    "    train=True,\n",
    "    download=True,\n",
    "    transform=transform\n",
    ")\n",
    "\n",
    "test_dataset = torchvision.datasets.MNIST(\n",
    "    root='./data',\n",
    "    train=False,\n",
    "    download=True,\n",
    "    transform=transform\n",
    ")"
   ]
  },
  {
   "cell_type": "code",
   "execution_count": 2,
   "id": "afd11802",
   "metadata": {},
   "outputs": [
    {
     "name": "stdout",
     "output_type": "stream",
     "text": [
      "Training dataset size: 60000\n",
      "Test dataset size: 10000\n"
     ]
    }
   ],
   "source": [
    "print(f\"Training dataset size: {len(train_dataset)}\")\n",
    "print(f\"Test dataset size: {len(test_dataset)}\")"
   ]
  },
  {
   "cell_type": "markdown",
   "id": "62090f53",
   "metadata": {},
   "source": [
    "Visualise the dataset"
   ]
  },
  {
   "cell_type": "code",
   "execution_count": 3,
   "id": "f52b5df4",
   "metadata": {},
   "outputs": [
    {
     "data": {
      "image/png": "[encoded data removed]",
      "text/plain": [
       "<Figure size 600x600 with 1 Axes>"
      ]
     },
     "metadata": {},
     "output_type": "display_data"
    }
   ],
   "source": [
    "import matplotlib.pyplot as plt\n",
    "import numpy as np\n",
    "\n",
    "first_image, first_label = train_dataset[0]\n",
    "first_image_np = first_image.squeeze().numpy()\n",
    "\n",
    "plt.figure(figsize=(6,6))\n",
    "plt.imshow(first_image_np, cmap='grey')\n",
    "plt.title(f\"First Training Image - Label: {first_label}\")\n",
    "plt.axis('off')\n",
    "plt.show()"
   ]
  },
  {
   "cell_type": "code",
   "execution_count": null,
   "id": "34166e9f",
   "metadata": {},
   "outputs": [
    {
     "data": {
      "image/png": "[encoded data removed]",
      "text/plain": [
       "<Figure size 1200x600 with 10 Axes>"
      ]
     },
     "metadata": {},
     "output_type": "display_data"
    }
   ],
   "source": [
    "fig, axes = plt.subplots(2, 5, figsize=(12, 6))\n",
    "\n",
    "for i in range(10):\n",
    "    image, label = train_dataset[i]\n",
    "\n",
    "    image_np = image.squeeze().numpy()\n",
    "\n",
    "    row = i // 5\n",
    "    col = i % 5\n",
    "\n",
    "    axes[row, col].imshow(image_np, cmap='gray')\n",
    "    axes[row, col].set_title(f\"Label:{label}\")\n",
    "    axes[row, col].axis('off')\n",
    "\n",
    "plt.tight_layout()\n",
    "plt.show()"
   ]
  },
  {
   "cell_type": "markdown",
   "id": "8dd0fba7",
   "metadata": {},
   "source": [
    "## Data preporation\n",
    "Neural networks work better with batched data\n",
    "We can use DataLoader to group images into batches and shuffle them"
   ]
  },
  {
   "cell_type": "code",
   "execution_count": 4,
   "id": "3ccaf04f",
   "metadata": {},
   "outputs": [],
   "source": [
    "from torch.utils.data import DataLoader\n",
    "\n",
    "BATCH_SIZE = 64\n",
    "\n",
    "train_loader = DataLoader(\n",
    "    dataset=train_dataset, \n",
    "    batch_size=BATCH_SIZE, \n",
    "    shuffle=True, \n",
    "    num_workers=4\n",
    ")\n",
    "\n",
    "test_loader = DataLoader(\n",
    "    dataset=test_dataset, \n",
    "    batch_size=BATCH_SIZE, \n",
    "    shuffle=False, \n",
    "    num_workers=4\n",
    ")"
   ]
  },
  {
   "cell_type": "markdown",
   "id": "fa505183",
   "metadata": {},
   "source": [
    "Neurons!"
   ]
  },
  {
   "cell_type": "code",
   "execution_count": 5,
   "id": "986c8101",
   "metadata": {},
   "outputs": [],
   "source": [
    "import torch\n",
    "import torch.nn as nn\n",
    "import torch.nn.functional as F\n",
    "\n",
    "class SimpleNeuralNetwork(nn.Module):\n",
    "    def __init__(self):\n",
    "        super(SimpleNeuralNetwork, self).__init__()\n",
    "\n",
    "        # Convert image from 28x28 to a 784 element vector\n",
    "        self.flatten = nn.Flatten() \n",
    "        # Fully connected layer 784in 128out\n",
    "        self.fc1 = nn.Linear(in_features=784, out_features=128)\n",
    "        # Fully connected layer 128in 64out\n",
    "        self.fc2 = nn.Linear(in_features=128, out_features=64)\n",
    "        # Output layer 64in 10out\n",
    "        self.fc3 = nn.Linear(in_features=64, out_features=10)\n",
    "        # Activation function\n",
    "        self.relu = nn.ReLU()\n",
    "\n",
    "        # Dropout for regularisation/overfit prevention\n",
    "        self.dropout = nn.Dropout(p=0.2) # 20% of neurons set to 0\n",
    "\n",
    "    def forward(self, x):\n",
    "        x = self.flatten(x)\n",
    "\n",
    "        # Run through first layer\n",
    "        x = self.fc1(x)     # Run through first layer\n",
    "        x = self.relu(x)    # Apply ReLU: negative values become 0\n",
    "        x = self.dropout(x) # Randomly set some neurons to 0 \n",
    "\n",
    "        # Second layer\n",
    "        x = self.fc2(x)\n",
    "        x = self.relu(x)\n",
    "\n",
    "        # Output layer\n",
    "        x = self.fc3(x)\n",
    "\n",
    "        return x\n",
    "\n",
    "    def count_parameters(self):\n",
    "        return sum(p.numel() for p in self.parameters() if p.requires_grad)\n",
    "\n"
   ]
  },
  {
   "cell_type": "code",
   "execution_count": 6,
   "id": "00457522",
   "metadata": {},
   "outputs": [
    {
     "name": "stdout",
     "output_type": "stream",
     "text": [
      "SimpleNeuralNetwork(\n",
      "  (flatten): Flatten(start_dim=1, end_dim=-1)\n",
      "  (fc1): Linear(in_features=784, out_features=128, bias=True)\n",
      "  (fc2): Linear(in_features=128, out_features=64, bias=True)\n",
      "  (fc3): Linear(in_features=64, out_features=10, bias=True)\n",
      "  (relu): ReLU()\n",
      "  (dropout): Dropout(p=0.2, inplace=False)\n",
      ")\n",
      "Number of parameters:109386\n"
     ]
    }
   ],
   "source": [
    "model = SimpleNeuralNetwork()\n",
    "print(model)\n",
    "print(f\"Number of parameters:{model.count_parameters()}\")"
   ]
  },
  {
   "cell_type": "code",
   "execution_count": 7,
   "id": "35a93a65",
   "metadata": {},
   "outputs": [
    {
     "name": "stdout",
     "output_type": "stream",
     "text": [
      "Output shape: torch.Size([5, 10])\n",
      "Output: tensor([-0.1641,  0.0432,  0.0242,  0.1114, -0.0444,  0.0238, -0.1287,  0.1369,\n",
      "        -0.0026, -0.1380])\n",
      "Prediction: 7\n"
     ]
    }
   ],
   "source": [
    "# Testing the network works\n",
    "batch = 5\n",
    "fake_images = torch.randn(batch, 1, 28, 28)\n",
    "\n",
    "model.eval()\n",
    "with torch.no_grad():\n",
    "    output = model(fake_images)\n",
    "\n",
    "print(f\"Output shape: {output.shape}\")\n",
    "print(f\"Output: {output[0]}\")\n",
    "print(f\"Prediction: {(torch.argmax(output[0])).item()}\")"
   ]
  },
  {
   "cell_type": "markdown",
   "id": "af71dbfa",
   "metadata": {},
   "source": [
    "## Training Setup\n",
    "Attributes of training:\n",
    "1. Loss function - Evaluate how wrong our predictions is\n",
    "2. Optimiser - How do we update weight to improve"
   ]
  },
  {
   "cell_type": "code",
   "execution_count": null,
   "id": "ad9e00ec",
   "metadata": {},
   "outputs": [],
   "source": [
    "def train_one_epoch(model, train_loader, criterion, optimiser, device, epoch_num):\n",
    "    # Set model to training mode\n",
    "    model.train()\n",
    "    \n",
    "    total_loss = 0.0\n",
    "    total_correct = 0\n",
    "    total_samples = 0\n",
    "    batch_count = 0\n",
    "\n",
    "    for batch_idx, (images, labels) in enumerate(train_loader):\n",
    "        # Move data to the device\n",
    "        images = images.to(device)\n",
    "        labels = labels.to(device)\n",
    "\n",
    "        # Zero the gradients - effectively reset the optimiser\n",
    "        optimiser.zero_grad()\n",
    "\n",
    "        # Forward pass\n",
    "        outputs = model(images)\n",
    "\n",
    "        # Loss calculation\n",
    "        loss = criterion(outputs, labels)   \n",
    "        loss.backward() # Backward pass\n",
    "\n",
    "        optimiser.step() # Update weights\n",
    "\n",
    "        total_loss += loss.item()\n",
    "        _, predicted = torch.max(outputs.data, 1)\n",
    "        total_samples += labels.size(0)\n",
    "        total_correct += (predicted == labels).sum().item()\n",
    "        batch_count += 1\n",
    "\n",
    "    avg_loss = total_loss / batch_count\n",
    "    avg_accuracy = total_correct/total_samples\n",
    "\n",
    "    print(f'    Average Loss: {avg_loss:.4f}')\n",
    "    print(f'    Average accuracy: {avg_accuracy:.4f} ({total_correct}/{total_samples})')\n",
    "\n",
    "    return avg_loss, avg_accuracy\n",
    "\n",
    "def evaluate_model(model, test_loader, criterion, device):\n",
    "    # Put model in evaluation mode\n",
    "    model.eval()\n",
    "\n",
    "    total_loss = 0.0\n",
    "    total_correct = 0\n",
    "    total_samples = 0\n",
    "    batch_count = 0\n",
    "\n",
    "    with torch.no_grad():\n",
    "        for images, labels in test_loader:\n",
    "            # repeat training steps -- Probably a way to improve this\n",
    "            images = images.to(device)\n",
    "            labels = labels.to(device)\n",
    "\n",
    "            outputs = model(images)\n",
    "            \n",
    "            loss = criterion(outputs, labels)\n",
    "\n",
    "            total_loss += loss.item()\n",
    "            _, predicted = torch.max(outputs.data, 1)\n",
    "            total_samples += labels.size(0)\n",
    "            total_correct += (predicted == labels).sum().item()\n",
    "            batch_count += 1\n",
    "\n",
    "    avg_loss = total_loss / batch_count\n",
    "    avg_accuracy = total_correct/total_samples\n",
    "\n",
    "    print(f'    Average Loss: {avg_loss:.4f}')\n",
    "    print(f'    Average accuracy: {avg_accuracy:.4f} ({total_correct}/{total_samples})')\n",
    "\n",
    "    return avg_loss, avg_accuracy"
   ]
  },
  {
   "cell_type": "code",
   "execution_count": null,
   "id": "641af5d0",
   "metadata": {},
   "outputs": [],
   "source": [
    "import torch.optim as optim\n",
    "\n",
    "def train(model, train_loader, test_loader, num_epoch=10, learning_rate=0.001):\n",
    "    # Define the device where the training will take place CPU vs GPU\n",
    "    device = torch.device('cuda' if torch.cuda.is_available() else 'cpu')\n",
    "    model = model.to(device)\n",
    "\n",
    "    # Loss function\n",
    "    criterion = nn.CrossEntropyLoss()\n",
    "\n",
    "    # Optimiser\n",
    "    optimiser = optim.Adam(model.parameters(), lr=learning_rate)\n",
    "    \n",
    "    history = {\n",
    "        'train_loss':[],\n",
    "        'train_accuracy':[],\n",
    "        'test_loss':[],\n",
    "        'test_accuracy': []\n",
    "    }\n",
    "\n",
    "    for epoch in range(1, num_epoch + 1):\n",
    "        print(f\"\\n{'='*50}\")\n",
    "        print(f\"EPOCH {epoch}/{num_epoch}\")\n",
    "        print(f\"{'='*50}\")\n",
    "\n",
    "        train_loss, train_acc = train_one_epoch(\n",
    "            model, train_loader, criterion, optimiser, device, epoch\n",
    "        )\n",
    "\n",
    "        test_loss, test_acc = evaluate_model(model, test_loader, criterion, device)\n",
    "\n",
    "        history['train_loss'].append(train_loss)\n",
    "        history['train_accuracy'].append(train_acc)\n",
    "        history['test_loss'].append(test_loss)\n",
    "        history['test_accuracy'].append(test_acc)\n",
    "\n",
    "        print(f\"Train → Loss: {train_loss:.4f}, Accuracy: {train_acc:.4f}\")\n",
    "        print(f\"Test  → Loss: {test_loss:.4f}, Accuracy: {test_acc:.4f}\")\n",
    "        if epoch != 1:\n",
    "            print(f\"Accuracy delta: {(test_acc - history['test_accuracy'][-2]):.4f}\")\n",
    "\n",
    "    print(f\"Training complete with final accuracy: {history['test_accuracy'][-1]:.4f}\")\n",
    "\n",
    "    return model, history"
   ]
  },
  {
   "cell_type": "code",
   "execution_count": null,
   "id": "a74e17c0",
   "metadata": {},
   "outputs": [
    {
     "name": "stdout",
     "output_type": "stream",
     "text": [
      "\n",
      "==================================================\n",
      "EPOCH 1/10\n",
      "==================================================\n"
     ]
    },
    {
     "ename": "KeyboardInterrupt",
     "evalue": "",
     "output_type": "error",
     "traceback": [
      "\u001b[31m---------------------------------------------------------------------------\u001b[39m",
      "\u001b[31mKeyboardInterrupt\u001b[39m                         Traceback (most recent call last)",
      "\u001b[36mCell\u001b[39m\u001b[36m \u001b[39m\u001b[32mIn[75]\u001b[39m\u001b[32m, line 1\u001b[39m\n\u001b[32m----> \u001b[39m\u001b[32m1\u001b[39m trained_model, history = \u001b[43mtrain\u001b[49m\u001b[43m(\u001b[49m\u001b[43mmodel\u001b[49m\u001b[43m,\u001b[49m\u001b[43m \u001b[49m\u001b[43mtrain_loader\u001b[49m\u001b[43m,\u001b[49m\u001b[43m \u001b[49m\u001b[43mtest_loader\u001b[49m\u001b[43m)\u001b[49m\n",
      "\u001b[36mCell\u001b[39m\u001b[36m \u001b[39m\u001b[32mIn[74]\u001b[39m\u001b[32m, line 26\u001b[39m, in \u001b[36mtrain\u001b[39m\u001b[34m(model, train_loader, test_loader, num_epoch, learning_rate)\u001b[39m\n\u001b[32m     23\u001b[39m \u001b[38;5;28mprint\u001b[39m(\u001b[33mf\u001b[39m\u001b[33m\"\u001b[39m\u001b[33mEPOCH \u001b[39m\u001b[38;5;132;01m{\u001b[39;00mepoch\u001b[38;5;132;01m}\u001b[39;00m\u001b[33m/\u001b[39m\u001b[38;5;132;01m{\u001b[39;00mnum_epoch\u001b[38;5;132;01m}\u001b[39;00m\u001b[33m\"\u001b[39m)\n\u001b[32m     24\u001b[39m \u001b[38;5;28mprint\u001b[39m(\u001b[33mf\u001b[39m\u001b[33m\"\u001b[39m\u001b[38;5;132;01m{\u001b[39;00m\u001b[33m'\u001b[39m\u001b[33m=\u001b[39m\u001b[33m'\u001b[39m*\u001b[32m50\u001b[39m\u001b[38;5;132;01m}\u001b[39;00m\u001b[33m\"\u001b[39m)\n\u001b[32m---> \u001b[39m\u001b[32m26\u001b[39m train_loss, train_acc = \u001b[43mtrain_one_epoch\u001b[49m\u001b[43m(\u001b[49m\n\u001b[32m     27\u001b[39m \u001b[43m    \u001b[49m\u001b[43mmodel\u001b[49m\u001b[43m,\u001b[49m\u001b[43m \u001b[49m\u001b[43mtrain_loader\u001b[49m\u001b[43m,\u001b[49m\u001b[43m \u001b[49m\u001b[43mcriterion\u001b[49m\u001b[43m,\u001b[49m\u001b[43m \u001b[49m\u001b[43moptimiser\u001b[49m\u001b[43m,\u001b[49m\u001b[43m \u001b[49m\u001b[43mdevice\u001b[49m\u001b[43m,\u001b[49m\u001b[43m \u001b[49m\u001b[43mepoch\u001b[49m\n\u001b[32m     28\u001b[39m \u001b[43m\u001b[49m\u001b[43m)\u001b[49m\n\u001b[32m     30\u001b[39m test_loss, test_acc = evaluate_model(model, test_loader, criterion, device)\n\u001b[32m     32\u001b[39m history[\u001b[33m'\u001b[39m\u001b[33mtrain_loss\u001b[39m\u001b[33m'\u001b[39m].append(train_loss)\n",
      "\u001b[36mCell\u001b[39m\u001b[36m \u001b[39m\u001b[32mIn[73]\u001b[39m\u001b[32m, line 10\u001b[39m, in \u001b[36mtrain_one_epoch\u001b[39m\u001b[34m(model, train_loader, criterion, optimiser, device, epoch_num)\u001b[39m\n\u001b[32m      7\u001b[39m total_samples = \u001b[32m0\u001b[39m\n\u001b[32m      8\u001b[39m batch_count = \u001b[32m0\u001b[39m\n\u001b[32m---> \u001b[39m\u001b[32m10\u001b[39m \u001b[43m\u001b[49m\u001b[38;5;28;43;01mfor\u001b[39;49;00m\u001b[43m \u001b[49m\u001b[43mbatch_idx\u001b[49m\u001b[43m,\u001b[49m\u001b[43m \u001b[49m\u001b[43m(\u001b[49m\u001b[43mimages\u001b[49m\u001b[43m,\u001b[49m\u001b[43m \u001b[49m\u001b[43mlabels\u001b[49m\u001b[43m)\u001b[49m\u001b[43m \u001b[49m\u001b[38;5;129;43;01min\u001b[39;49;00m\u001b[43m \u001b[49m\u001b[38;5;28;43menumerate\u001b[39;49m\u001b[43m(\u001b[49m\u001b[43mtrain_loader\u001b[49m\u001b[43m)\u001b[49m\u001b[43m:\u001b[49m\n\u001b[32m     11\u001b[39m \u001b[43m    \u001b[49m\u001b[38;5;66;43;03m# Move data to the device\u001b[39;49;00m\n\u001b[32m     12\u001b[39m \u001b[43m    \u001b[49m\u001b[43mimages\u001b[49m\u001b[43m \u001b[49m\u001b[43m=\u001b[49m\u001b[43m \u001b[49m\u001b[43mimages\u001b[49m\u001b[43m.\u001b[49m\u001b[43mto\u001b[49m\u001b[43m(\u001b[49m\u001b[43mdevice\u001b[49m\u001b[43m)\u001b[49m\n\u001b[32m     13\u001b[39m \u001b[43m    \u001b[49m\u001b[43mlabels\u001b[49m\u001b[43m \u001b[49m\u001b[43m=\u001b[49m\u001b[43m \u001b[49m\u001b[43mlabels\u001b[49m\u001b[43m.\u001b[49m\u001b[43mto\u001b[49m\u001b[43m(\u001b[49m\u001b[43mdevice\u001b[49m\u001b[43m)\u001b[49m\n",
      "\u001b[36mFile \u001b[39m\u001b[32mc:\\Users\\filip\\Documents\\GitHub\\MNIST\\venv\\Lib\\site-packages\\torch\\utils\\data\\dataloader.py:734\u001b[39m, in \u001b[36m_BaseDataLoaderIter.__next__\u001b[39m\u001b[34m(self)\u001b[39m\n\u001b[32m    731\u001b[39m \u001b[38;5;28;01mif\u001b[39;00m \u001b[38;5;28mself\u001b[39m._sampler_iter \u001b[38;5;129;01mis\u001b[39;00m \u001b[38;5;28;01mNone\u001b[39;00m:\n\u001b[32m    732\u001b[39m     \u001b[38;5;66;03m# TODO(https://github.com/pytorch/pytorch/issues/76750)\u001b[39;00m\n\u001b[32m    733\u001b[39m     \u001b[38;5;28mself\u001b[39m._reset()  \u001b[38;5;66;03m# type: ignore[call-arg]\u001b[39;00m\n\u001b[32m--> \u001b[39m\u001b[32m734\u001b[39m data = \u001b[38;5;28;43mself\u001b[39;49m\u001b[43m.\u001b[49m\u001b[43m_next_data\u001b[49m\u001b[43m(\u001b[49m\u001b[43m)\u001b[49m\n\u001b[32m    735\u001b[39m \u001b[38;5;28mself\u001b[39m._num_yielded += \u001b[32m1\u001b[39m\n\u001b[32m    736\u001b[39m \u001b[38;5;28;01mif\u001b[39;00m (\n\u001b[32m    737\u001b[39m     \u001b[38;5;28mself\u001b[39m._dataset_kind == _DatasetKind.Iterable\n\u001b[32m    738\u001b[39m     \u001b[38;5;129;01mand\u001b[39;00m \u001b[38;5;28mself\u001b[39m._IterableDataset_len_called \u001b[38;5;129;01mis\u001b[39;00m \u001b[38;5;129;01mnot\u001b[39;00m \u001b[38;5;28;01mNone\u001b[39;00m\n\u001b[32m    739\u001b[39m     \u001b[38;5;129;01mand\u001b[39;00m \u001b[38;5;28mself\u001b[39m._num_yielded > \u001b[38;5;28mself\u001b[39m._IterableDataset_len_called\n\u001b[32m    740\u001b[39m ):\n",
      "\u001b[36mFile \u001b[39m\u001b[32mc:\\Users\\filip\\Documents\\GitHub\\MNIST\\venv\\Lib\\site-packages\\torch\\utils\\data\\dataloader.py:1492\u001b[39m, in \u001b[36m_MultiProcessingDataLoaderIter._next_data\u001b[39m\u001b[34m(self)\u001b[39m\n\u001b[32m   1489\u001b[39m     \u001b[38;5;28;01mreturn\u001b[39;00m \u001b[38;5;28mself\u001b[39m._process_data(data, worker_id)\n\u001b[32m   1491\u001b[39m \u001b[38;5;28;01massert\u001b[39;00m \u001b[38;5;129;01mnot\u001b[39;00m \u001b[38;5;28mself\u001b[39m._shutdown \u001b[38;5;129;01mand\u001b[39;00m \u001b[38;5;28mself\u001b[39m._tasks_outstanding > \u001b[32m0\u001b[39m\n\u001b[32m-> \u001b[39m\u001b[32m1492\u001b[39m idx, data = \u001b[38;5;28;43mself\u001b[39;49m\u001b[43m.\u001b[49m\u001b[43m_get_data\u001b[49m\u001b[43m(\u001b[49m\u001b[43m)\u001b[49m\n\u001b[32m   1493\u001b[39m \u001b[38;5;28mself\u001b[39m._tasks_outstanding -= \u001b[32m1\u001b[39m\n\u001b[32m   1494\u001b[39m \u001b[38;5;28;01mif\u001b[39;00m \u001b[38;5;28mself\u001b[39m._dataset_kind == _DatasetKind.Iterable:\n\u001b[32m   1495\u001b[39m     \u001b[38;5;66;03m# Check for _IterableDatasetStopIteration\u001b[39;00m\n",
      "\u001b[36mFile \u001b[39m\u001b[32mc:\\Users\\filip\\Documents\\GitHub\\MNIST\\venv\\Lib\\site-packages\\torch\\utils\\data\\dataloader.py:1454\u001b[39m, in \u001b[36m_MultiProcessingDataLoaderIter._get_data\u001b[39m\u001b[34m(self)\u001b[39m\n\u001b[32m   1450\u001b[39m     \u001b[38;5;66;03m# In this case, `self._data_queue` is a `queue.Queue`,. But we don't\u001b[39;00m\n\u001b[32m   1451\u001b[39m     \u001b[38;5;66;03m# need to call `.task_done()` because we don't use `.join()`.\u001b[39;00m\n\u001b[32m   1452\u001b[39m \u001b[38;5;28;01melse\u001b[39;00m:\n\u001b[32m   1453\u001b[39m     \u001b[38;5;28;01mwhile\u001b[39;00m \u001b[38;5;28;01mTrue\u001b[39;00m:\n\u001b[32m-> \u001b[39m\u001b[32m1454\u001b[39m         success, data = \u001b[38;5;28;43mself\u001b[39;49m\u001b[43m.\u001b[49m\u001b[43m_try_get_data\u001b[49m\u001b[43m(\u001b[49m\u001b[43m)\u001b[49m\n\u001b[32m   1455\u001b[39m         \u001b[38;5;28;01mif\u001b[39;00m success:\n\u001b[32m   1456\u001b[39m             \u001b[38;5;28;01mreturn\u001b[39;00m data\n",
      "\u001b[36mFile \u001b[39m\u001b[32mc:\\Users\\filip\\Documents\\GitHub\\MNIST\\venv\\Lib\\site-packages\\torch\\utils\\data\\dataloader.py:1285\u001b[39m, in \u001b[36m_MultiProcessingDataLoaderIter._try_get_data\u001b[39m\u001b[34m(self, timeout)\u001b[39m\n\u001b[32m   1272\u001b[39m \u001b[38;5;28;01mdef\u001b[39;00m\u001b[38;5;250m \u001b[39m\u001b[34m_try_get_data\u001b[39m(\u001b[38;5;28mself\u001b[39m, timeout=_utils.MP_STATUS_CHECK_INTERVAL):\n\u001b[32m   1273\u001b[39m     \u001b[38;5;66;03m# Tries to fetch data from `self._data_queue` once for a given timeout.\u001b[39;00m\n\u001b[32m   1274\u001b[39m     \u001b[38;5;66;03m# This can also be used as inner loop of fetching without timeout, with\u001b[39;00m\n\u001b[32m   (...)\u001b[39m\u001b[32m   1282\u001b[39m     \u001b[38;5;66;03m# Returns a 2-tuple:\u001b[39;00m\n\u001b[32m   1283\u001b[39m     \u001b[38;5;66;03m#   (bool: whether successfully get data, any: data if successful else None)\u001b[39;00m\n\u001b[32m   1284\u001b[39m     \u001b[38;5;28;01mtry\u001b[39;00m:\n\u001b[32m-> \u001b[39m\u001b[32m1285\u001b[39m         data = \u001b[38;5;28;43mself\u001b[39;49m\u001b[43m.\u001b[49m\u001b[43m_data_queue\u001b[49m\u001b[43m.\u001b[49m\u001b[43mget\u001b[49m\u001b[43m(\u001b[49m\u001b[43mtimeout\u001b[49m\u001b[43m=\u001b[49m\u001b[43mtimeout\u001b[49m\u001b[43m)\u001b[49m\n\u001b[32m   1286\u001b[39m         \u001b[38;5;28;01mreturn\u001b[39;00m (\u001b[38;5;28;01mTrue\u001b[39;00m, data)\n\u001b[32m   1287\u001b[39m     \u001b[38;5;28;01mexcept\u001b[39;00m \u001b[38;5;167;01mException\u001b[39;00m \u001b[38;5;28;01mas\u001b[39;00m e:\n\u001b[32m   1288\u001b[39m         \u001b[38;5;66;03m# At timeout and error, we manually check whether any worker has\u001b[39;00m\n\u001b[32m   1289\u001b[39m         \u001b[38;5;66;03m# failed. Note that this is the only mechanism for Windows to detect\u001b[39;00m\n\u001b[32m   1290\u001b[39m         \u001b[38;5;66;03m# worker failures.\u001b[39;00m\n",
      "\u001b[36mFile \u001b[39m\u001b[32mC:\\Program Files\\WindowsApps\\PythonSoftwareFoundation.Python.3.11_3.11.2544.0_x64__qbz5n2kfra8p0\\Lib\\multiprocessing\\queues.py:113\u001b[39m, in \u001b[36mQueue.get\u001b[39m\u001b[34m(self, block, timeout)\u001b[39m\n\u001b[32m    111\u001b[39m \u001b[38;5;28;01mif\u001b[39;00m block:\n\u001b[32m    112\u001b[39m     timeout = deadline - time.monotonic()\n\u001b[32m--> \u001b[39m\u001b[32m113\u001b[39m     \u001b[38;5;28;01mif\u001b[39;00m \u001b[38;5;129;01mnot\u001b[39;00m \u001b[38;5;28;43mself\u001b[39;49m\u001b[43m.\u001b[49m\u001b[43m_poll\u001b[49m\u001b[43m(\u001b[49m\u001b[43mtimeout\u001b[49m\u001b[43m)\u001b[49m:\n\u001b[32m    114\u001b[39m         \u001b[38;5;28;01mraise\u001b[39;00m Empty\n\u001b[32m    115\u001b[39m \u001b[38;5;28;01melif\u001b[39;00m \u001b[38;5;129;01mnot\u001b[39;00m \u001b[38;5;28mself\u001b[39m._poll():\n",
      "\u001b[36mFile \u001b[39m\u001b[32mC:\\Program Files\\WindowsApps\\PythonSoftwareFoundation.Python.3.11_3.11.2544.0_x64__qbz5n2kfra8p0\\Lib\\multiprocessing\\connection.py:257\u001b[39m, in \u001b[36m_ConnectionBase.poll\u001b[39m\u001b[34m(self, timeout)\u001b[39m\n\u001b[32m    255\u001b[39m \u001b[38;5;28mself\u001b[39m._check_closed()\n\u001b[32m    256\u001b[39m \u001b[38;5;28mself\u001b[39m._check_readable()\n\u001b[32m--> \u001b[39m\u001b[32m257\u001b[39m \u001b[38;5;28;01mreturn\u001b[39;00m \u001b[38;5;28;43mself\u001b[39;49m\u001b[43m.\u001b[49m\u001b[43m_poll\u001b[49m\u001b[43m(\u001b[49m\u001b[43mtimeout\u001b[49m\u001b[43m)\u001b[49m\n",
      "\u001b[36mFile \u001b[39m\u001b[32mC:\\Program Files\\WindowsApps\\PythonSoftwareFoundation.Python.3.11_3.11.2544.0_x64__qbz5n2kfra8p0\\Lib\\multiprocessing\\connection.py:346\u001b[39m, in \u001b[36mPipeConnection._poll\u001b[39m\u001b[34m(self, timeout)\u001b[39m\n\u001b[32m    343\u001b[39m \u001b[38;5;28;01mif\u001b[39;00m (\u001b[38;5;28mself\u001b[39m._got_empty_message \u001b[38;5;129;01mor\u001b[39;00m\n\u001b[32m    344\u001b[39m             _winapi.PeekNamedPipe(\u001b[38;5;28mself\u001b[39m._handle)[\u001b[32m0\u001b[39m] != \u001b[32m0\u001b[39m):\n\u001b[32m    345\u001b[39m     \u001b[38;5;28;01mreturn\u001b[39;00m \u001b[38;5;28;01mTrue\u001b[39;00m\n\u001b[32m--> \u001b[39m\u001b[32m346\u001b[39m \u001b[38;5;28;01mreturn\u001b[39;00m \u001b[38;5;28mbool\u001b[39m(\u001b[43mwait\u001b[49m\u001b[43m(\u001b[49m\u001b[43m[\u001b[49m\u001b[38;5;28;43mself\u001b[39;49m\u001b[43m]\u001b[49m\u001b[43m,\u001b[49m\u001b[43m \u001b[49m\u001b[43mtimeout\u001b[49m\u001b[43m)\u001b[49m)\n",
      "\u001b[36mFile \u001b[39m\u001b[32mC:\\Program Files\\WindowsApps\\PythonSoftwareFoundation.Python.3.11_3.11.2544.0_x64__qbz5n2kfra8p0\\Lib\\multiprocessing\\connection.py:896\u001b[39m, in \u001b[36mwait\u001b[39m\u001b[34m(object_list, timeout)\u001b[39m\n\u001b[32m    893\u001b[39m                 ready_objects.add(o)\n\u001b[32m    894\u001b[39m                 timeout = \u001b[32m0\u001b[39m\n\u001b[32m--> \u001b[39m\u001b[32m896\u001b[39m     ready_handles = \u001b[43m_exhaustive_wait\u001b[49m\u001b[43m(\u001b[49m\u001b[43mwaithandle_to_obj\u001b[49m\u001b[43m.\u001b[49m\u001b[43mkeys\u001b[49m\u001b[43m(\u001b[49m\u001b[43m)\u001b[49m\u001b[43m,\u001b[49m\u001b[43m \u001b[49m\u001b[43mtimeout\u001b[49m\u001b[43m)\u001b[49m\n\u001b[32m    897\u001b[39m \u001b[38;5;28;01mfinally\u001b[39;00m:\n\u001b[32m    898\u001b[39m     \u001b[38;5;66;03m# request that overlapped reads stop\u001b[39;00m\n\u001b[32m    899\u001b[39m     \u001b[38;5;28;01mfor\u001b[39;00m ov \u001b[38;5;129;01min\u001b[39;00m ov_list:\n",
      "\u001b[36mFile \u001b[39m\u001b[32mC:\\Program Files\\WindowsApps\\PythonSoftwareFoundation.Python.3.11_3.11.2544.0_x64__qbz5n2kfra8p0\\Lib\\multiprocessing\\connection.py:828\u001b[39m, in \u001b[36m_exhaustive_wait\u001b[39m\u001b[34m(handles, timeout)\u001b[39m\n\u001b[32m    826\u001b[39m ready = []\n\u001b[32m    827\u001b[39m \u001b[38;5;28;01mwhile\u001b[39;00m L:\n\u001b[32m--> \u001b[39m\u001b[32m828\u001b[39m     res = _winapi.WaitForMultipleObjects(L, \u001b[38;5;28;01mFalse\u001b[39;00m, timeout)\n\u001b[32m    829\u001b[39m     \u001b[38;5;28;01mif\u001b[39;00m res == WAIT_TIMEOUT:\n\u001b[32m    830\u001b[39m         \u001b[38;5;28;01mbreak\u001b[39;00m\n",
      "\u001b[31mKeyboardInterrupt\u001b[39m: "
     ]
    }
   ],
   "source": [
    "trained_model, history = train(model, train_loader, test_loader)"
   ]
  },
  {
   "cell_type": "markdown",
   "id": "47345879",
   "metadata": {},
   "source": [
    "## Saving our models\n",
    "This model took almost 10 minutes to train, in order to keep that for later but also ensure that we can go back to better versions of our model we are going to save it for later"
   ]
  },
  {
   "cell_type": "code",
   "execution_count": 8,
   "id": "4872bc0a",
   "metadata": {},
   "outputs": [],
   "source": [
    "import os\n",
    "\n",
    "def save_model_weights(model, filepath, additional_info=None):\n",
    "    os.makedirs(os.path.dirname(filepath), exist_ok=True)\n",
    "\n",
    "    save_dict = {\n",
    "        'model_state_dict': model.state_dict(),\n",
    "        'model_architecture': str(model)\n",
    "    }\n",
    "\n",
    "    if additional_info:\n",
    "        save_dict.update(additional_info)\n",
    "\n",
    "    torch.save(save_dict, filepath)\n",
    "\n",
    "def load_model_weights(model, filepath):\n",
    "    checkpoint = torch.load(filepath, map_location='cpu')\n",
    "    model.load_state_dict(checkpoint['model_state_dict'])\n",
    "\n",
    "    return model, checkpoint\n",
    "\n",
    "def save_complete_model(model, filepath):\n",
    "    os.makedirs(os.path.dirname(filepath), exist_ok=True)\n",
    "    torch.save(model, filepath)\n",
    "\n",
    "def load_complete_model(filepath):\n",
    "    model = torch.load(filepath, map_location='cpu')\n",
    "    return model"
   ]
  },
  {
   "cell_type": "code",
   "execution_count": null,
   "id": "4a2a0202",
   "metadata": {},
   "outputs": [],
   "source": [
    "#save_model_weights(model, \"saved_models/mnist_weights.pth\")"
   ]
  },
  {
   "cell_type": "code",
   "execution_count": 9,
   "id": "e16b58a8",
   "metadata": {},
   "outputs": [],
   "source": [
    "# Load \n",
    "model = SimpleNeuralNetwork()\n",
    "model, checkpoint = load_model_weights(model, \"saved_models/mnist_weights.pth\")"
   ]
  },
  {
   "cell_type": "markdown",
   "id": "8c56351c",
   "metadata": {},
   "source": [
    "## Let's test the model\n",
    "\n",
    "Now that the model is trained, we can put the first 5 values of the evaluation set and see what the model predicts\n",
    "\n",
    "`image → model.eval() → torch.no_grad() → raw_outputs → softmax → probabilities → argmax → prediction`"
   ]
  },
  {
   "cell_type": "code",
   "execution_count": 10,
   "id": "1cda7602",
   "metadata": {},
   "outputs": [],
   "source": [
    "def predict(model, image, device):\n",
    "    # Put model in evaluation mode so it does not train\n",
    "    model.eval()\n",
    "    image_batch = image.to(device)\n",
    "\n",
    "    with torch.no_grad():\n",
    "        raw_outputs = model(image_batch)\n",
    "        probabilities = torch.softmax(raw_outputs, dim=1)\n",
    "        predicted_class = torch.argmax(probabilities, dim=1).item()\n",
    "        confidence = probabilities[0, predicted_class].item()\n",
    "        all_probs = probabilities[0].cpu().numpy()\n",
    "\n",
    "    return predicted_class, confidence, all_probs"
   ]
  },
  {
   "cell_type": "code",
   "execution_count": 11,
   "id": "1ff31cd0",
   "metadata": {},
   "outputs": [
    {
     "data": {
      "image/png": "[encoded data removed]",
      "text/plain": [
       "<Figure size 1200x600 with 10 Axes>"
      ]
     },
     "metadata": {},
     "output_type": "display_data"
    }
   ],
   "source": [
    "fig, axes = plt.subplots(2, 5, figsize=(12, 6))\n",
    "device = torch.device('cuda' if torch.cuda.is_available() else 'cpu')\n",
    "\n",
    "for i in range(10):\n",
    "    image, label = test_dataset[i]\n",
    "\n",
    "    image_np = image.squeeze().numpy()\n",
    "    predicted_class, confidence, all_probs = predict(model, image, device)\n",
    "\n",
    "    row = i // 5\n",
    "    col = i % 5\n",
    "\n",
    "    axes[row, col].imshow(image_np, cmap='gray')\n",
    "\n",
    "    if predicted_class == label:\n",
    "        title_color = 'green'\n",
    "    else:\n",
    "        title_color = 'red'\n",
    "    title = f\"Label: {label} | Pred: {predicted_class} | \\nConf:{confidence:.2f}\"\n",
    "    axes[row, col].set_title(title, color=title_color, fontsize=9)\n",
    "    axes[row, col].axis('off')\n",
    "    #print(all_probs)\n",
    "\n",
    "plt.tight_layout()\n",
    "plt.show()"
   ]
  },
  {
   "cell_type": "markdown",
   "id": "2de33984",
   "metadata": {},
   "source": [
    "## Interacting with the model\n",
    "\n",
    "In order to interact with the model more meaningfully and also provide data that it truly would have never seen before, we are going to make a user interface on which I can write my own numbers\n",
    "\n",
    "This interface needs to be 28x28 in order to match the expected input size of the model and ideally it is also in gray scale.\n",
    "The process will look like this:\n",
    "\n",
    "`Canvas → PIL Image → Grayscale → Resize → Normalize → Tensor → Prediction`"
   ]
  },
  {
   "cell_type": "code",
   "execution_count": 35,
   "id": "434f7b14",
   "metadata": {},
   "outputs": [],
   "source": [
    "import matplotlib.pyplot as plt\n",
    "from PIL import Image\n",
    "import ipywidgets as widgets\n",
    "from ipycanvas import Canvas, hold_canvas\n",
    "from IPython.display import clear_output\n",
    "import numpy as np\n",
    "import torch\n",
    "\n",
    "class MNISTDrawingInterface:\n",
    "    def __init__(self, model, device):\n",
    "        self.model = model\n",
    "        self.device = device\n",
    "        self.model.eval() # Put model in evaluation mode\n",
    "\n",
    "        self.canvas_size = 140\n",
    "        self.model_size = 28\n",
    "\n",
    "        self.setup_interface()\n",
    "\n",
    "    def setup_interface(self):\n",
    "        self.canvas = Canvas(width=self.canvas_size, height=self.canvas_size, sync_image_data=True)\n",
    "        self.canvas.fill_style = 'black'\n",
    "        self.canvas.fill_rect(0, 0, self.canvas_size, self.canvas_size)\n",
    "\n",
    "        # Draw settings\n",
    "        self.is_drawing = False\n",
    "        self.canvas.stroke_style = 'white'\n",
    "        self.canvas.line_width = 15\n",
    "\n",
    "        # Set up mouse/touch\n",
    "        self.canvas.on_mouse_down(self.start_drawing)\n",
    "        self.canvas.on_mouse_move(self.draw)\n",
    "        self.canvas.on_mouse_up(self.stop_drawing)\n",
    "\n",
    "        # Buttons \n",
    "        self.predict_button = widgets.Button(\n",
    "            description = 'Predict Digit',\n",
    "            button_style = 'primary',\n",
    "            layout=widgets.Layout(width='150px', height='40px')\n",
    "        )\n",
    "\n",
    "        self.clear_button = widgets.Button(\n",
    "            description='Clear Canvas',\n",
    "            button_style='warning',\n",
    "            layout=widgets.Layout(width='150px', height='40px')\n",
    "        )\n",
    "\n",
    "        # Button callbacks\n",
    "        self.predict_button.on_click(self.predict_digit)\n",
    "        self.clear_button.on_click(self.clear_canvas)\n",
    "\n",
    "        self.output = widgets.Output()\n",
    "\n",
    "        self.info_label = widgets.HTML(\n",
    "            value=\"MNIST prediction canvas\"\n",
    "        )\n",
    "\n",
    "    def start_drawing(self, x, y):\n",
    "        self.is_drawing=True\n",
    "        self.canvas.begin_path()\n",
    "        self.canvas.move_to(x,y)\n",
    "\n",
    "    def draw(self, x, y):\n",
    "        if self.is_drawing:\n",
    "            self.canvas.line_to(x, y)\n",
    "            self.canvas.stroke()\n",
    "\n",
    "    def stop_drawing(self, x, y):\n",
    "        self.is_drawing = False\n",
    "\n",
    "    def clear_canvas(self, button):\n",
    "        with hold_canvas(self.canvas):\n",
    "            self.canvas.clear()\n",
    "            self.canvas.fill_style = 'black'\n",
    "            self.canvas.fill_rect(0, 0, self.canvas_size, self.canvas_size)\n",
    "\n",
    "        with self.output:\n",
    "            clear_output()\n",
    "\n",
    "    def canvas_to_mnist(self):\n",
    "        # Canvas to image\n",
    "        canvas_data = self.canvas.get_image_data(0, 0, self.canvas_size, self.canvas_size)\n",
    "        # Convert to numpy\n",
    "        img_array = np.array(canvas_data, dtype=np.uint8)\n",
    "        # Reshape\n",
    "        img_array = img_array.reshape((self.canvas_size, self.canvas_size, 4))\n",
    "\n",
    "        img = Image.fromarray(img_array, 'RGBA')\n",
    "\n",
    "        # Convert to grayscale\n",
    "        img_gray = img.convert('L')\n",
    "\n",
    "        img_resized = img_gray.resize((self.model_size, self.model_size), Image.Resampling.LANCZOS)\n",
    "        img_array = np.array(img_resized)\n",
    "        # Normalise between 0-1\n",
    "        img_array = img_array.astype(np.float32)/255.0\n",
    "        img_tensor = torch.tensor(img_array).unsqueeze(0)\n",
    "\n",
    "        return img_tensor\n",
    "        \n",
    "\n",
    "    def predict_digit(self, button):\n",
    "        with self.output:\n",
    "            clear_output(wait=True)\n",
    "            try:\n",
    "                img_tensor = self.canvas_to_mnist()\n",
    "                prediction, confidence, all_probs = self.make_prediction(img_tensor)\n",
    "                self.display_prediction_results(img_tensor, prediction, confidence, all_probs)\n",
    "            except Exception as e:\n",
    "                print(f'Error making prediction: {e}')\n",
    "    \n",
    "    def make_prediction(self, img_tensor):\n",
    "        img_batch = img_tensor.unsqueeze(0).to(self.device)\n",
    "\n",
    "        with torch.no_grad():\n",
    "            outputs = self.model(img_batch)\n",
    "            probabilities = torch.softmax(outputs, dim=1)\n",
    "\n",
    "            predicted_class = torch.argmax(probabilities, dim=1).item()\n",
    "            confidence = probabilities[0, predicted_class].item()\n",
    "\n",
    "            all_probs = probabilities[0].cpu().numpy()\n",
    "\n",
    "        return predicted_class, confidence, all_probs\n",
    "    \n",
    "    def display_prediction_results(self, img_tensor, prediction, confidence, all_probs):\n",
    "        fig, (ax1, ax2) = plt.subplots(1, 2, figsize=(12,4))\n",
    "\n",
    "        ax1.imshow(img_tensor.squeeze().numpy(), cmap='gray')\n",
    "        ax1.set_title(f\"Prediction: {prediction}\", fontsize=12)\n",
    "        ax1.axis('off')\n",
    "\n",
    "        digits = range(10)\n",
    "        bars=ax2.bar(digits, all_probs, alpha=0.7)\n",
    "\n",
    "        # Highlight predicted digit\n",
    "        bars[prediction].set_color('green')\n",
    "        bars[prediction].set_alpha(1.0)\n",
    "\n",
    "        ax2.set_xlabel('Digit')\n",
    "        ax2.set_ylabel('Probability')\n",
    "        ax2.set_title(f'Model Confidence for All Digits')\n",
    "        ax2.set_xticks(digits)\n",
    "        ax2.grid(True, alpha=0.3)\n",
    "\n",
    "        for i, prob in enumerate(all_probs):\n",
    "            if prob > 0.01:\n",
    "                ax2.text(i, prob+0.01, f'{prob*100:.1f}%', ha='center', va='bottom', fontsize=8)\n",
    "\n",
    "        plt.tight_layout()\n",
    "        plt.show()\n",
    "\n",
    "    def display_interface(self):\n",
    "        title = widgets.HTML(\"<h2>MNIST Digit Recognision canvas</h2>\")\n",
    "\n",
    "        button_box = widgets.HBox([\n",
    "            self.predict_button,\n",
    "            self.clear_button\n",
    "        ], layout=widgets.Layout(justify_content='center'))\n",
    "\n",
    "        interface= widgets.VBox([\n",
    "            title, \n",
    "            self.canvas,\n",
    "            widgets.HTML(\"<br>\"),\n",
    "            button_box,\n",
    "            widgets.HTML(\"<br>\"),\n",
    "            self.output\n",
    "        ])\n",
    "\n",
    "        return interface\n"
   ]
  },
  {
   "cell_type": "code",
   "execution_count": null,
   "id": "6f6580df",
   "metadata": {},
   "outputs": [],
   "source": [
    "interface = MNISTDrawingInterface(model, device)"
   ]
  },
  {
   "cell_type": "code",
   "execution_count": 37,
   "id": "e751c7a3",
   "metadata": {},
   "outputs": [
    {
     "data": {
      "application/vnd.jupyter.widget-view+json": {
       "model_id": "ea4c68ea36474dbbbec212e23008e379",
       "version_major": 2,
       "version_minor": 0
      },
      "text/plain": [
       "VBox(children=(HTML(value='<h2>MNIST Digit Recognision canvas</h2>'), Canvas(height=140, image_data=b'\\x89PNG\\…"
      ]
     },
     "execution_count": 37,
     "metadata": {},
     "output_type": "execute_result"
    }
   ],
   "source": [
    "interface.display_interface()"
   ]
  }
 ],
 "metadata": {
  "kernelspec": {
   "display_name": "venv",
   "language": "python",
   "name": "python3"
  },
  "language_info": {
   "codemirror_mode": {
    "name": "ipython",
    "version": 3
   },
   "file_extension": ".py",
   "mimetype": "text/x-python",
   "name": "python",
   "nbconvert_exporter": "python",
   "pygments_lexer": "ipython3",
   "version": "3.11.9"
  }
 },
 "nbformat": 4,
 "nbformat_minor": 5
}
