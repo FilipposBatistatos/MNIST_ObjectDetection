{
 "cells": [
  {
   "cell_type": "markdown",
   "id": "3f01fa40",
   "metadata": {},
   "source": [
    "# Object detection\n",
    "\n",
    "Using the MNIST dataset, we will place numbers on different parts of a canvas. Then our model will put a bounding box around the numbers and also detect what number is inside. I would also like for the model to be able to identiy multiple numbers in the same picture if they are visible while also ignoring noise, like lines or symbols."
   ]
  },
  {
   "cell_type": "markdown",
   "id": "dbd27b44",
   "metadata": {},
   "source": [
    "## 1. Dataset\n",
    "The MNIST dataset has all the numbers in the center of the screen, we will need to make these images.\n",
    "\n",
    "1. Using a black canvas we will place between 1 and 5 MNIST digits on the canvas on random locations\n",
    "2. The digits will vary in size and the images will be rotated up to 10 degrees for variance\n",
    "3. We will track the location of the bounding box\n",
    "4. Save: image + labels (digit_class, x, y, width, height)"
   ]
  },
  {
   "cell_type": "code",
   "execution_count": 50,
   "id": "0c3c8738",
   "metadata": {},
   "outputs": [],
   "source": [
    "import numpy as np\n",
    "import matplotlib.pyplot as plt\n",
    "import torch\n",
    "import torchvision\n",
    "import torchvision.transforms as transforms\n",
    "from PIL import Image, ImageDraw\n",
    "import random\n",
    "import math"
   ]
  },
  {
   "cell_type": "code",
   "execution_count": 51,
   "id": "c0452a55",
   "metadata": {},
   "outputs": [],
   "source": [
    "def load_mnist_data():\n",
    "    transform = transforms.Compose([transforms.ToTensor()])\n",
    "\n",
    "    train_dataset = torchvision.datasets.MNIST(\n",
    "        root='./data',\n",
    "        train=True,\n",
    "        download=True,\n",
    "        transform=transform\n",
    "    )\n",
    "\n",
    "    test_dataset = torchvision.datasets.MNIST(\n",
    "        root='./data',\n",
    "        train=False,\n",
    "        download=True,\n",
    "        transform=transform\n",
    "    )\n",
    "\n",
    "    return train_dataset, test_dataset"
   ]
  },
  {
   "cell_type": "code",
   "execution_count": 52,
   "id": "e0bf8ce4",
   "metadata": {},
   "outputs": [],
   "source": [
    "class DigitPlacer:\n",
    "    def __init__(self, canvas_size=224, min_digit_size=20, max_digit_size=40, max_rotation=10):\n",
    "        self.canvas_size = canvas_size\n",
    "        self.min_digit_size = min_digit_size\n",
    "        self.max_digit_size = max_digit_size\n",
    "        self.max_rotation = max_rotation\n",
    "\n",
    "    def process_single_digit(self, mnist_image, target_size=None, rotation_angle=None):\n",
    "        mnist_array = mnist_image.squeeze().numpy() # Tensor to image\n",
    "        mnist_array = (mnist_array * 255).astype(np.uint8) \n",
    "\n",
    "        digit_pil = Image.fromarray(mnist_array, mode='L')\n",
    "\n",
    "        if target_size is None:\n",
    "            target_size = random.randint(self.min_digit_size, self.max_digit_size)\n",
    "\n",
    "        if rotation_angle is None:\n",
    "            rotation_angle = random.uniform(-self.max_rotation, self.max_rotation)\n",
    "\n",
    "        digit_resized = digit_pil.resize((target_size, target_size), Image.Resampling.LANCZOS)\n",
    "        digit_rotated = digit_resized.rotate(rotation_angle, expand=True, fillcolor=0)\n",
    "\n",
    "        return digit_rotated, target_size, rotation_angle\n",
    "                \n",
    "    def place_digit_on_canvas(self, canvas, digit_image, position=None):\n",
    "        digit_width, digit_height = digit_image.size\n",
    "        canvas_width, canvas_height = canvas.size\n",
    "\n",
    "        if position is None:\n",
    "            max_X = canvas_width - digit_width\n",
    "            max_Y = canvas_height - digit_height\n",
    "\n",
    "            x = random.randint(0, max_X)\n",
    "            y = random.randint(0, max_Y)\n",
    "        else:\n",
    "            x, y = position\n",
    "\n",
    "        new_canvas = Image.new('L', (self.canvas_size, self.canvas_size), color=(0))\n",
    "        new_canvas.paste(digit_image, (x,y))\n",
    "\n",
    "        # Since black is 0 and white is 255 we can add the arrays of two images to just transfer the white - in this case the stroke of the digit\n",
    "        canvas_array = np.array(canvas, dtype=np.float32)\n",
    "        new_canvas_array = np.array(new_canvas, dtype=np.float32)\n",
    "\n",
    "        canvas_array = np.minimum(canvas_array + new_canvas_array, 255)\n",
    "        updated_canvas = Image.fromarray(canvas_array.astype(np.uint8))\n",
    "\n",
    "        return updated_canvas, (x, y, digit_width, digit_height)\n"
   ]
  },
  {
   "cell_type": "code",
   "execution_count": 53,
   "id": "6f15bd56",
   "metadata": {},
   "outputs": [
    {
     "name": "stderr",
     "output_type": "stream",
     "text": [
      "C:\\Users\\filip\\AppData\\Local\\Temp\\ipykernel_13368\\2370921591.py:12: DeprecationWarning: 'mode' parameter is deprecated and will be removed in Pillow 13 (2026-10-15)\n",
      "  digit_pil = Image.fromarray(mnist_array, mode='L')\n"
     ]
    }
   ],
   "source": [
    "canvas = Image.new('L', (224, 224), color=(0))\n",
    "placer = DigitPlacer(224)\n",
    "annotations = [] # Empty array for annotations\n",
    "\n",
    "train_dataset, test_dataset = load_mnist_data()\n",
    "\n",
    "for i in range(5):\n",
    "    idx = random.randint(0, len(train_dataset) - 1)\n",
    "    mnist_image, digit_class = train_dataset[idx]\n",
    "\n",
    "    processed_digit, size, rotation = placer.process_single_digit(mnist_image)\n",
    "    canvas, bbox = placer.place_digit_on_canvas(canvas, processed_digit)\n",
    "\n",
    "    if bbox is not None:\n",
    "        #x, y, width, height = bbox\n",
    "        annotations.append({\n",
    "            'class':digit_class,\n",
    "            'bbox': bbox,\n",
    "            'size': size,\n",
    "            'rotation': rotation\n",
    "        })"
   ]
  },
  {
   "cell_type": "code",
   "execution_count": 54,
   "id": "b8ce46d9",
   "metadata": {},
   "outputs": [
    {
     "data": {
      "image/png": "[encoded data removed]",
      "text/plain": [
       "<Figure size 1500x700 with 2 Axes>"
      ]
     },
     "metadata": {},
     "output_type": "display_data"
    }
   ],
   "source": [
    "canvas_with_bbox = canvas.copy()\n",
    "draw = ImageDraw.Draw(canvas_with_bbox)\n",
    "\n",
    "for i, ann in enumerate(annotations):\n",
    "    digit_class = ann['class']\n",
    "    x, y, width, height = ann['bbox']\n",
    "\n",
    "    # Draw rectangle\n",
    "    draw.rectangle([x, y, x+width, y+height], outline='green', width=2)\n",
    "    label = f'{digit_class}'\n",
    "    draw.text((x, y-15), label, fill='green')\n",
    "\n",
    "fig, (ax1, ax2) = plt.subplots(1, 2, figsize=(15, 7))\n",
    "\n",
    "# Original image\n",
    "ax1.imshow(canvas, cmap='gray')\n",
    "ax1.set_title(\"Generated Image\")\n",
    "ax1.axis('off')\n",
    "\n",
    "# Image with boudning box\n",
    "ax2.imshow(canvas_with_bbox, cmap='gray')\n",
    "ax2.set_title(\"Image with bounding boxes\")\n",
    "ax2.axis('off')\n",
    "\n",
    "plt.tight_layout()\n",
    "plt.show()"
   ]
  },
  {
   "cell_type": "markdown",
   "id": "825a8e22",
   "metadata": {},
   "source": [
    "Now that the algorithm for data synthesis works, we can work on creating a dataset alongside labels for the model to train on\n",
    "\n",
    "We are going to split the data as 5:1:1 between train, validate and test\n",
    "Hence, for a 1000 training dataset, we will need 200 val and 200 test"
   ]
  },
  {
   "cell_type": "code",
   "execution_count": 55,
   "id": "80859a2e",
   "metadata": {},
   "outputs": [],
   "source": [
    "def generate_image(mnist_dataset, placer, min_digits=1, max_digits=5):\n",
    "    num_digits = np.random.randint(min_digits, max_digits + 1)\n",
    "    canvas = Image.new('L', (224, 224), color=(0))\n",
    "    annotations = []\n",
    "    for i in range(num_digits):\n",
    "        idx = random.randint(0, len(mnist_dataset) - 1)\n",
    "        mnist_image, digit_class = mnist_dataset[idx]\n",
    "\n",
    "        processed_digit, size, rotation = placer.process_single_digit(mnist_image)\n",
    "        canvas, bbox = placer.place_digit_on_canvas(canvas, processed_digit)\n",
    "\n",
    "        if bbox is not None:\n",
    "            annotations.append({\n",
    "                'class':digit_class,\n",
    "                'bbox': bbox,\n",
    "                'size': size,\n",
    "                'rotation': rotation\n",
    "            })\n",
    "\n",
    "    return canvas, annotations"
   ]
  },
  {
   "cell_type": "code",
   "execution_count": 82,
   "id": "90e812b8",
   "metadata": {},
   "outputs": [
    {
     "name": "stdout",
     "output_type": "stream",
     "text": [
      "1\n",
      "[{'class': 0, 'bbox': (103, 179, 30, 30), 'size': 28, 'rotation': -3.7194389497795433}]\n"
     ]
    },
    {
     "name": "stderr",
     "output_type": "stream",
     "text": [
      "C:\\Users\\filip\\AppData\\Local\\Temp\\ipykernel_3032\\2370921591.py:12: DeprecationWarning: 'mode' parameter is deprecated and will be removed in Pillow 13 (2026-10-15)\n",
      "  digit_pil = Image.fromarray(mnist_array, mode='L')\n"
     ]
    },
    {
     "data": {
      "text/plain": [
       "<matplotlib.image.AxesImage at 0x1afc07bc5d0>"
      ]
     },
     "execution_count": 82,
     "metadata": {},
     "output_type": "execute_result"
    },
    {
     "data": {
      "image/png": "[encoded data removed]",
      "text/plain": [
       "<Figure size 640x480 with 1 Axes>"
      ]
     },
     "metadata": {},
     "output_type": "display_data"
    }
   ],
   "source": [
    "# test\n",
    "canvas, a = generate_image(train_dataset, placer)\n",
    "\n",
    "print(a)\n",
    "\n",
    "plt.imshow(canvas)"
   ]
  },
  {
   "cell_type": "code",
   "execution_count": 56,
   "id": "018cf972",
   "metadata": {},
   "outputs": [],
   "source": [
    "# Normalise labels\n",
    "def normalise_annotations(annotations, canvas):\n",
    "    img_width, img_height = canvas.size\n",
    "    norm_annotations = []\n",
    "\n",
    "    for a in annotations:\n",
    "        x, y, w, h = a['bbox']\n",
    "\n",
    "        # Convert to center coordinates\n",
    "        x_center = x + w/2\n",
    "        y_center = y + h/2\n",
    "\n",
    "        # Normalise bbox to image dimensions\n",
    "        x_center_norm = x_center / img_width    \n",
    "        y_center_norm = y_center / img_height\n",
    "        width_norm = w / img_width\n",
    "        height_norm = h / img_height\n",
    "\n",
    "        # Clamp values between 0 and 1 - should already be close...\n",
    "        x_center_norm = max(0, min(1, x_center_norm))\n",
    "        y_center_norm = max(0, min(1, y_center_norm))\n",
    "        width_norm = max(0, min(1, width_norm))\n",
    "        height_norm = max(0, min(1, height_norm))\n",
    "\n",
    "        norm_annotations.append({\n",
    "            'class':a['class'],\n",
    "            'bbox': (x_center_norm, y_center_norm, width_norm, height_norm),\n",
    "            'size': a['size'],\n",
    "            'rotation': a['rotation']\n",
    "            })\n",
    "\n",
    "    return norm_annotations"
   ]
  },
  {
   "cell_type": "code",
   "execution_count": 87,
   "id": "f45013b9",
   "metadata": {},
   "outputs": [
    {
     "name": "stdout",
     "output_type": "stream",
     "text": [
      "{'class': 0, 'bbox': (103, 179, 30, 30), 'size': 28, 'rotation': -3.7194389497795433}\n",
      "(103, 179, 30, 30)\n",
      "[{'class': 0, 'bbox': (0.5267857142857143, 0.8660714285714286, 0.13392857142857142, 0.13392857142857142), 'size': 28, 'rotation': -3.7194389497795433}]\n"
     ]
    }
   ],
   "source": [
    "print(normalise_annotations(a, canvas))"
   ]
  },
  {
   "cell_type": "code",
   "execution_count": 57,
   "id": "ba0ddb6e",
   "metadata": {},
   "outputs": [],
   "source": [
    "import os\n",
    "\n",
    "def store_image(image, annotations, split_name):\n",
    "    img_filename = f\"{split_name}_{i:06d}.jpg\"\n",
    "    img_path = os.path.join('./data/mnist_detection_dataset/images', split_name, img_filename)\n",
    "\n",
    "    if image.mode != \"RGB\":\n",
    "        image = image.convert('RGB')\n",
    "\n",
    "    image.save(img_path, 'JPEG', quality=95)\n",
    "\n",
    "    label_filename = f\"{split_name}_{i:06d}.txt\"\n",
    "    label_path = os.path.join('./data/mnist_detection_dataset/labels', split_name, label_filename)\n",
    "\n",
    "    with open(label_path, 'w') as f:\n",
    "        for ann in annotations:\n",
    "            class_id = ann['class']\n",
    "            bbox = ann['bbox']\n",
    "\n",
    "            f.write(f\"{class_id} {bbox[0]:.6f} {bbox[1]:.6f} {bbox[2]:.6f} {bbox[3]:.6f}\\n\")"
   ]
  },
  {
   "cell_type": "code",
   "execution_count": null,
   "id": "f2de5178",
   "metadata": {},
   "outputs": [
    {
     "name": "stderr",
     "output_type": "stream",
     "text": [
      "C:\\Users\\filip\\AppData\\Local\\Temp\\ipykernel_13368\\2370921591.py:12: DeprecationWarning: 'mode' parameter is deprecated and will be removed in Pillow 13 (2026-10-15)\n",
      "  digit_pil = Image.fromarray(mnist_array, mode='L')\n"
     ]
    }
   ],
   "source": [
    "# Generate and store images in appropriate files\n",
    "\n",
    "train = 1000\n",
    "val = int(train * (1/5))\n",
    "test = val\n",
    "\n",
    "for i in range(train):\n",
    "    image, annotations = generate_image(train_dataset, placer)\n",
    "    annotations = normalise_annotations(annotations, image)\n",
    "    store_image(image, annotations, \"train\")\n",
    "\n",
    "for i in range(val):\n",
    "    image, annotations = generate_image(train_dataset, placer)\n",
    "    annotations = normalise_annotations(annotations, image)\n",
    "    store_image(image, annotations, \"val\")\n",
    "\n",
    "for i in range(val):\n",
    "    image, annotations = generate_image(test_dataset, placer)\n",
    "    annotations = normalise_annotations(annotations, image)\n",
    "    store_image(image, annotations, \"test\")\n"
   ]
  },
  {
   "cell_type": "markdown",
   "id": "ac8b3cad",
   "metadata": {},
   "source": [
    "## 1.2 Loading the data\n",
    "\n",
    "After we created the data, we also need to consider how to data is going to be loaded. Since we are using PyTorch, we will need to use a PyTorch Tensor."
   ]
  },
  {
   "cell_type": "code",
   "execution_count": 6,
   "id": "fda83d6f",
   "metadata": {},
   "outputs": [],
   "source": [
    "import os\n",
    "import torch\n",
    "from PIL import Image\n",
    "import torchvision.transforms as transforms"
   ]
  },
  {
   "cell_type": "code",
   "execution_count": 7,
   "id": "e59fcb9d",
   "metadata": {},
   "outputs": [],
   "source": [
    "def load_data(data_dir, split='train', img_size=224):\n",
    "    images_dir = os.path.join(data_dir, 'images', split)\n",
    "    label_dir = os.path.join(data_dir, 'labels', split)\n",
    "\n",
    "    transform = transforms.Compose([\n",
    "        transforms.Resize((img_size, img_size)),\n",
    "        transforms.ToTensor()\n",
    "    ])\n",
    "\n",
    "    images = []\n",
    "    annotations = []\n",
    "\n",
    "    image_files = [f for f in os.listdir(images_dir) if f.endswith('.jpg')]\n",
    "    image_files.sort()\n",
    "\n",
    "    for img_name in image_files:\n",
    "        img_path = os.path.join(images_dir, img_name)\n",
    "        image = Image.open(img_path).convert('RGB')\n",
    "        image = transform(image)\n",
    "\n",
    "        label_name = img_name.replace('.jpg', '.txt')\n",
    "        label_path = os.path.join(label_dir, label_name)\n",
    "\n",
    "        boxes = []\n",
    "        labels = []\n",
    "\n",
    "        if os.path.exists(label_path):\n",
    "            with open(label_path, 'r') as f:\n",
    "                for line in f:\n",
    "                    parts = line.strip().split()\n",
    "                    if len(parts) == 5:\n",
    "                        class_id = int(parts[0])\n",
    "                        x_center = float(parts[1])\n",
    "                        y_center = float(parts[2])\n",
    "                        width = float(parts[3])\n",
    "                        height = float(parts[4])\n",
    "\n",
    "                        labels.append(class_id)\n",
    "                        boxes.append([x_center, y_center, width, height])\n",
    "\n",
    "        images.append(image)\n",
    "        annotations.append({\n",
    "            'boxes': torch.tensor(boxes, dtype=torch.float32),\n",
    "            'labels': torch.tensor(labels, dtype=torch.long)\n",
    "        })\n",
    "    \n",
    "    return images, annotations"
   ]
  },
  {
   "cell_type": "code",
   "execution_count": 8,
   "id": "c111add5",
   "metadata": {},
   "outputs": [],
   "source": [
    "\"\"\" The DataLoader expects the data collated \"\"\"\n",
    "def collate_fn(batch):\n",
    "    images, targets = zip(*batch)\n",
    "    return torch.stack(images), list(targets)"
   ]
  },
  {
   "cell_type": "code",
   "execution_count": null,
   "id": "de218929",
   "metadata": {},
   "outputs": [],
   "source": [
    "\"\"\" Loading the data and validating it \"\"\"\n",
    "\n",
    "from torch.utils.data import DataLoader\n",
    "\n",
    "BATCH_SIZE = 16\n",
    "\n",
    "# Loading the data into memory\n",
    "train_images, train_labels  = load_data('./data/mnist_detection_dataset', split='train')\n",
    "val_images, val_labels  = load_data('./data/mnist_detection_dataset', split='val')\n",
    "test_images, test_labels = load_data('./data/mnist_detection_dataset', split='test')\n",
    "\n",
    "train_dataset = list(zip(train_images, train_labels))\n",
    "val_dataset = list(zip(test_images, train_labels))\n",
    "test_dataset = list(zip(test_images, test_labels))\n",
    "\n",
    "train_loader = DataLoader(\n",
    "    dataset=train_dataset,\n",
    "    batch_size=BATCH_SIZE,\n",
    "    shuffle=True,\n",
    "    num_workers=0,\n",
    "    collate_fn=collate_fn\n",
    ")\n",
    "\n",
    "val_loader = DataLoader(\n",
    "    dataset=val_dataset,\n",
    "    batch_size=BATCH_SIZE,\n",
    "    shuffle=False,\n",
    "    num_workers=0,\n",
    "    collate_fn=collate_fn\n",
    ")\n",
    "\n",
    "test_loader = DataLoader(\n",
    "    dataset=test_dataset,\n",
    "    batch_size=BATCH_SIZE,\n",
    "    shuffle=False,\n",
    "    num_workers=0,\n",
    "    collate_fn=collate_fn\n",
    ")"
   ]
  },
  {
   "cell_type": "code",
   "execution_count": 42,
   "id": "2cfa9dd7",
   "metadata": {},
   "outputs": [
    {
     "data": {
      "image/png": "[encoded data removed]",
      "text/plain": [
       "<Figure size 640x480 with 1 Axes>"
      ]
     },
     "metadata": {},
     "output_type": "display_data"
    }
   ],
   "source": [
    "import matplotlib.pyplot as plt\n",
    "import matplotlib.patches as patches\n",
    "\n",
    "# Get a batch\n",
    "images, labels = next(iter(val_loader))\n",
    "\n",
    "# Select the first image and its annotations\n",
    "image = images[5].permute(1, 2, 0).numpy()  # [C, H, W] → [H, W, C]\n",
    "target = labels[5]\n",
    "boxes = target['boxes']\n",
    "classes = target['labels']\n",
    "\n",
    "# Image dimensions (needed to denormalize boxes)\n",
    "img_h, img_w, _ = image.shape\n",
    "\n",
    "# Create a plot\n",
    "fig, ax = plt.subplots(1)\n",
    "ax.imshow(image)\n",
    "ax.set_title(\"Image with Bounding Boxes\")\n",
    "\n",
    "# Draw each bounding box\n",
    "for box, cls in zip(boxes, classes):\n",
    "    # YOLO format: [x_center, y_center, width, height] in [0,1]\n",
    "    x_c, y_c, w, h = box\n",
    "\n",
    "    # Convert to pixel coordinates\n",
    "    x_c *= img_w\n",
    "    y_c *= img_h\n",
    "    w *= img_w\n",
    "    h *= img_h\n",
    "\n",
    "    # Convert center-based box to top-left corner format for matplotlib\n",
    "    x_min = x_c - w / 2\n",
    "    y_min = y_c - h / 2\n",
    "\n",
    "    # Create a rectangle patch\n",
    "    rect = patches.Rectangle((x_min, y_min), w, h, linewidth=2, edgecolor='green', facecolor='none')\n",
    "\n",
    "    # Add the rectangle to the plot\n",
    "    ax.add_patch(rect)\n",
    "\n",
    "    # Optionally add class label\n",
    "    ax.text(x_min, y_min - 5, str(cls.item()), color='white', fontsize=10,\n",
    "            bbox=dict(facecolor='green', edgecolor='none', pad=1))\n",
    "\n",
    "plt.axis('off')\n",
    "plt.show()\n"
   ]
  },
  {
   "cell_type": "markdown",
   "id": "0db7c81e",
   "metadata": {},
   "source": [
    "## 2. Object Detection architecture\n",
    "In classification the model takes one image and makes a prediction.\n",
    "In detection we also have to figure out where something is. We will need to first perform feature extraction, then detect and see if we can identify something. \n",
    "\n",
    "The backbone of Feature Extraction is CNN - Convolutional Neural Network which basically means that a Convolutional layer - or layers - perform feature extraction on the input.\n",
    "\n",
    "What should be understood is that Detection is a regression task. Reading the YOLO paper in more detail, we understand that the architecture consists of a CNN which is trained for feature extraction. After it is trained then we create add two fully connected layers to it which help detect."
   ]
  },
  {
   "cell_type": "markdown",
   "id": "536bef74",
   "metadata": {},
   "source": [
    "## 3. Convolutional Neural Networks\n",
    "CNNs are deep learning models which specialise on grid-like data, commonly images. They are able to identify patterns and objects through the process of convolution - same processed used in edge detection. CNNs are good feature extractors. \n",
    "They consist of:\n",
    "- **Convolutional layers:** These layers apply filters which act as feature detectors. The specialise on the detection of patterns, edge, curves and even textures. Due to parameter sharing through the layer, the same filter can be applied anywhere. \n",
    "- **Pooling layers:** A pooling layer - often Max Pooling or Average Pooling - is used to reduce the spacial dimensions of the feature map. This reduces computational intensity and helps make the network more resilient to variation in the inputs."
   ]
  },
  {
   "cell_type": "code",
   "execution_count": null,
   "id": "94ebb6e2",
   "metadata": {},
   "outputs": [],
   "source": []
  }
 ],
 "metadata": {
  "kernelspec": {
   "display_name": "venv",
   "language": "python",
   "name": "python3"
  },
  "language_info": {
   "codemirror_mode": {
    "name": "ipython",
    "version": 3
   },
   "file_extension": ".py",
   "mimetype": "text/x-python",
   "name": "python",
   "nbconvert_exporter": "python",
   "pygments_lexer": "ipython3",
   "version": "3.11.9"
  }
 },
 "nbformat": 4,
 "nbformat_minor": 5
}
