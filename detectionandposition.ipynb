{
 "cells": [
  {
   "cell_type": "markdown",
   "id": "3f01fa40",
   "metadata": {},
   "source": [
    "# Object detection\n",
    "\n",
    "Using the MNIST dataset, we will place numbers on different parts of a canvas. Then our model will put a bounding box around the numbers and also detect what number is inside. I would also like for the model to be able to identiy multiple numbers in the same picture if they are visible while also ignoring noise, like lines or symbols."
   ]
  },
  {
   "cell_type": "markdown",
   "id": "dbd27b44",
   "metadata": {},
   "source": [
    "## 1. Dataset\n",
    "The MNIST dataset has all the numbers in the center of the screen, we will need to make these images.\n",
    "\n",
    "1. Using a black canvas we will place between 1 and 5 MNIST digits on the canvas on random locations\n",
    "2. The digits will vary in size and the images will be rotated up to 10 degrees for variance\n",
    "3. We will track the location of the bounding box\n",
    "4. Save: image + labels (digit_class, x, y, width, height)"
   ]
  },
  {
   "cell_type": "code",
   "execution_count": 50,
   "id": "0c3c8738",
   "metadata": {},
   "outputs": [],
   "source": [
    "import numpy as np\n",
    "import matplotlib.pyplot as plt\n",
    "import torch\n",
    "import torchvision\n",
    "import torchvision.transforms as transforms\n",
    "from PIL import Image, ImageDraw\n",
    "import random\n",
    "import math"
   ]
  },
  {
   "cell_type": "code",
   "execution_count": 51,
   "id": "c0452a55",
   "metadata": {},
   "outputs": [],
   "source": [
    "def load_mnist_data():\n",
    "    transform = transforms.Compose([transforms.ToTensor()])\n",
    "\n",
    "    train_dataset = torchvision.datasets.MNIST(\n",
    "        root='./data',\n",
    "        train=True,\n",
    "        download=True,\n",
    "        transform=transform\n",
    "    )\n",
    "\n",
    "    test_dataset = torchvision.datasets.MNIST(\n",
    "        root='./data',\n",
    "        train=False,\n",
    "        download=True,\n",
    "        transform=transform\n",
    "    )\n",
    "\n",
    "    return train_dataset, test_dataset"
   ]
  },
  {
   "cell_type": "code",
   "execution_count": 52,
   "id": "e0bf8ce4",
   "metadata": {},
   "outputs": [],
   "source": [
    "class DigitPlacer:\n",
    "    def __init__(self, canvas_size=224, min_digit_size=20, max_digit_size=40, max_rotation=10):\n",
    "        self.canvas_size = canvas_size\n",
    "        self.min_digit_size = min_digit_size\n",
    "        self.max_digit_size = max_digit_size\n",
    "        self.max_rotation = max_rotation\n",
    "\n",
    "    def process_single_digit(self, mnist_image, target_size=None, rotation_angle=None):\n",
    "        mnist_array = mnist_image.squeeze().numpy() # Tensor to image\n",
    "        mnist_array = (mnist_array * 255).astype(np.uint8) \n",
    "\n",
    "        digit_pil = Image.fromarray(mnist_array, mode='L')\n",
    "\n",
    "        if target_size is None:\n",
    "            target_size = random.randint(self.min_digit_size, self.max_digit_size)\n",
    "\n",
    "        if rotation_angle is None:\n",
    "            rotation_angle = random.uniform(-self.max_rotation, self.max_rotation)\n",
    "\n",
    "        digit_resized = digit_pil.resize((target_size, target_size), Image.Resampling.LANCZOS)\n",
    "        digit_rotated = digit_resized.rotate(rotation_angle, expand=True, fillcolor=0)\n",
    "\n",
    "        return digit_rotated, target_size, rotation_angle\n",
    "                \n",
    "    def place_digit_on_canvas(self, canvas, digit_image, position=None):\n",
    "        digit_width, digit_height = digit_image.size\n",
    "        canvas_width, canvas_height = canvas.size\n",
    "\n",
    "        if position is None:\n",
    "            max_X = canvas_width - digit_width\n",
    "            max_Y = canvas_height - digit_height\n",
    "\n",
    "            x = random.randint(0, max_X)\n",
    "            y = random.randint(0, max_Y)\n",
    "        else:\n",
    "            x, y = position\n",
    "\n",
    "        new_canvas = Image.new('L', (self.canvas_size, self.canvas_size), color=(0))\n",
    "        new_canvas.paste(digit_image, (x,y))\n",
    "\n",
    "        # Since black is 0 and white is 255 we can add the arrays of two images to just transfer the white - in this case the stroke of the digit\n",
    "        canvas_array = np.array(canvas, dtype=np.float32)\n",
    "        new_canvas_array = np.array(new_canvas, dtype=np.float32)\n",
    "\n",
    "        canvas_array = np.minimum(canvas_array + new_canvas_array, 255)\n",
    "        updated_canvas = Image.fromarray(canvas_array.astype(np.uint8))\n",
    "\n",
    "        return updated_canvas, (x, y, digit_width, digit_height)\n"
   ]
  },
  {
   "cell_type": "code",
   "execution_count": 53,
   "id": "6f15bd56",
   "metadata": {},
   "outputs": [
    {
     "name": "stderr",
     "output_type": "stream",
     "text": [
      "C:\\Users\\filip\\AppData\\Local\\Temp\\ipykernel_13368\\2370921591.py:12: DeprecationWarning: 'mode' parameter is deprecated and will be removed in Pillow 13 (2026-10-15)\n",
      "  digit_pil = Image.fromarray(mnist_array, mode='L')\n"
     ]
    }
   ],
   "source": [
    "canvas = Image.new('L', (224, 224), color=(0))\n",
    "placer = DigitPlacer(224)\n",
    "annotations = [] # Empty array for annotations\n",
    "\n",
    "train_dataset, test_dataset = load_mnist_data()\n",
    "\n",
    "for i in range(5):\n",
    "    idx = random.randint(0, len(train_dataset) - 1)\n",
    "    mnist_image, digit_class = train_dataset[idx]\n",
    "\n",
    "    processed_digit, size, rotation = placer.process_single_digit(mnist_image)\n",
    "    canvas, bbox = placer.place_digit_on_canvas(canvas, processed_digit)\n",
    "\n",
    "    if bbox is not None:\n",
    "        #x, y, width, height = bbox\n",
    "        annotations.append({\n",
    "            'class':digit_class,\n",
    "            'bbox': bbox,\n",
    "            'size': size,\n",
    "            'rotation': rotation\n",
    "        })"
   ]
  },
  {
   "cell_type": "code",
   "execution_count": 54,
   "id": "b8ce46d9",
   "metadata": {},
   "outputs": [
    {
     "data": {
      "image/png": "[encoded data removed]",
      "text/plain": [
       "<Figure size 1500x700 with 2 Axes>"
      ]
     },
     "metadata": {},
     "output_type": "display_data"
    }
   ],
   "source": [
    "canvas_with_bbox = canvas.copy()\n",
    "draw = ImageDraw.Draw(canvas_with_bbox)\n",
    "\n",
    "for i, ann in enumerate(annotations):\n",
    "    digit_class = ann['class']\n",
    "    x, y, width, height = ann['bbox']\n",
    "\n",
    "    # Draw rectangle\n",
    "    draw.rectangle([x, y, x+width, y+height], outline='green', width=2)\n",
    "    label = f'{digit_class}'\n",
    "    draw.text((x, y-15), label, fill='green')\n",
    "\n",
    "fig, (ax1, ax2) = plt.subplots(1, 2, figsize=(15, 7))\n",
    "\n",
    "# Original image\n",
    "ax1.imshow(canvas, cmap='gray')\n",
    "ax1.set_title(\"Generated Image\")\n",
    "ax1.axis('off')\n",
    "\n",
    "# Image with boudning box\n",
    "ax2.imshow(canvas_with_bbox, cmap='gray')\n",
    "ax2.set_title(\"Image with bounding boxes\")\n",
    "ax2.axis('off')\n",
    "\n",
    "plt.tight_layout()\n",
    "plt.show()"
   ]
  },
  {
   "cell_type": "markdown",
   "id": "825a8e22",
   "metadata": {},
   "source": [
    "Now that the algorithm for data synthesis works, we can work on creating a dataset alongside labels for the model to train on\n",
    "\n",
    "We are going to split the data as 5:1:1 between train, validate and test\n",
    "Hence, for a 1000 training dataset, we will need 200 val and 200 test"
   ]
  },
  {
   "cell_type": "code",
   "execution_count": 55,
   "id": "80859a2e",
   "metadata": {},
   "outputs": [],
   "source": [
    "def generate_image(mnist_dataset, placer, min_digits=1, max_digits=5):\n",
    "    num_digits = np.random.randint(min_digits, max_digits + 1)\n",
    "    canvas = Image.new('L', (224, 224), color=(0))\n",
    "    annotations = []\n",
    "    for i in range(num_digits):\n",
    "        idx = random.randint(0, len(mnist_dataset) - 1)\n",
    "        mnist_image, digit_class = mnist_dataset[idx]\n",
    "\n",
    "        processed_digit, size, rotation = placer.process_single_digit(mnist_image)\n",
    "        canvas, bbox = placer.place_digit_on_canvas(canvas, processed_digit)\n",
    "\n",
    "        if bbox is not None:\n",
    "            annotations.append({\n",
    "                'class':digit_class,\n",
    "                'bbox': bbox,\n",
    "                'size': size,\n",
    "                'rotation': rotation\n",
    "            })\n",
    "\n",
    "    return canvas, annotations"
   ]
  },
  {
   "cell_type": "code",
   "execution_count": 82,
   "id": "90e812b8",
   "metadata": {},
   "outputs": [
    {
     "name": "stdout",
     "output_type": "stream",
     "text": [
      "1\n",
      "[{'class': 0, 'bbox': (103, 179, 30, 30), 'size': 28, 'rotation': -3.7194389497795433}]\n"
     ]
    },
    {
     "name": "stderr",
     "output_type": "stream",
     "text": [
      "C:\\Users\\filip\\AppData\\Local\\Temp\\ipykernel_3032\\2370921591.py:12: DeprecationWarning: 'mode' parameter is deprecated and will be removed in Pillow 13 (2026-10-15)\n",
      "  digit_pil = Image.fromarray(mnist_array, mode='L')\n"
     ]
    },
    {
     "data": {
      "text/plain": [
       "<matplotlib.image.AxesImage at 0x1afc07bc5d0>"
      ]
     },
     "execution_count": 82,
     "metadata": {},
     "output_type": "execute_result"
    },
    {
     "data": {
      "image/png": "[encoded data removed]",
      "text/plain": [
       "<Figure size 640x480 with 1 Axes>"
      ]
     },
     "metadata": {},
     "output_type": "display_data"
    }
   ],
   "source": [
    "# test\n",
    "canvas, a = generate_image(train_dataset, placer)\n",
    "\n",
    "print(a)\n",
    "\n",
    "plt.imshow(canvas)"
   ]
  },
  {
   "cell_type": "code",
   "execution_count": 56,
   "id": "018cf972",
   "metadata": {},
   "outputs": [],
   "source": [
    "# Normalise labels\n",
    "def normalise_annotations(annotations, canvas):\n",
    "    img_width, img_height = canvas.size\n",
    "    norm_annotations = []\n",
    "\n",
    "    for a in annotations:\n",
    "        x, y, w, h = a['bbox']\n",
    "\n",
    "        # Convert to center coordinates\n",
    "        x_center = x + w/2\n",
    "        y_center = y + h/2\n",
    "\n",
    "        # Normalise bbox to image dimensions\n",
    "        x_center_norm = x_center / img_width    \n",
    "        y_center_norm = y_center / img_height\n",
    "        width_norm = w / img_width\n",
    "        height_norm = h / img_height\n",
    "\n",
    "        # Clamp values between 0 and 1 - should already be close...\n",
    "        x_center_norm = max(0, min(1, x_center_norm))\n",
    "        y_center_norm = max(0, min(1, y_center_norm))\n",
    "        width_norm = max(0, min(1, width_norm))\n",
    "        height_norm = max(0, min(1, height_norm))\n",
    "\n",
    "        norm_annotations.append({\n",
    "            'class':a['class'],\n",
    "            'bbox': (x_center_norm, y_center_norm, width_norm, height_norm),\n",
    "            'size': a['size'],\n",
    "            'rotation': a['rotation']\n",
    "            })\n",
    "\n",
    "    return norm_annotations"
   ]
  },
  {
   "cell_type": "code",
   "execution_count": 87,
   "id": "f45013b9",
   "metadata": {},
   "outputs": [
    {
     "name": "stdout",
     "output_type": "stream",
     "text": [
      "{'class': 0, 'bbox': (103, 179, 30, 30), 'size': 28, 'rotation': -3.7194389497795433}\n",
      "(103, 179, 30, 30)\n",
      "[{'class': 0, 'bbox': (0.5267857142857143, 0.8660714285714286, 0.13392857142857142, 0.13392857142857142), 'size': 28, 'rotation': -3.7194389497795433}]\n"
     ]
    }
   ],
   "source": [
    "print(normalise_annotations(a, canvas))"
   ]
  },
  {
   "cell_type": "code",
   "execution_count": 57,
   "id": "ba0ddb6e",
   "metadata": {},
   "outputs": [],
   "source": [
    "import os\n",
    "\n",
    "def store_image(image, annotations, split_name):\n",
    "    img_filename = f\"{split_name}_{i:06d}.jpg\"\n",
    "    img_path = os.path.join('./data/mnist_detection_dataset/images', split_name, img_filename)\n",
    "\n",
    "    if image.mode != \"RGB\":\n",
    "        image = image.convert('RGB')\n",
    "\n",
    "    image.save(img_path, 'JPEG', quality=95)\n",
    "\n",
    "    label_filename = f\"{split_name}_{i:06d}.txt\"\n",
    "    label_path = os.path.join('./data/mnist_detection_dataset/labels', split_name, label_filename)\n",
    "\n",
    "    with open(label_path, 'w') as f:\n",
    "        for ann in annotations:\n",
    "            class_id = ann['class']\n",
    "            bbox = ann['bbox']\n",
    "\n",
    "            f.write(f\"{class_id} {bbox[0]:.6f} {bbox[1]:.6f} {bbox[2]:.6f} {bbox[3]:.6f}\\n\")"
   ]
  },
  {
   "cell_type": "code",
   "execution_count": null,
   "id": "f2de5178",
   "metadata": {},
   "outputs": [
    {
     "name": "stderr",
     "output_type": "stream",
     "text": [
      "C:\\Users\\filip\\AppData\\Local\\Temp\\ipykernel_13368\\2370921591.py:12: DeprecationWarning: 'mode' parameter is deprecated and will be removed in Pillow 13 (2026-10-15)\n",
      "  digit_pil = Image.fromarray(mnist_array, mode='L')\n"
     ]
    }
   ],
   "source": [
    "# Generate and store images in appropriate files\n",
    "\n",
    "train = 1000\n",
    "val = int(train * (1/5))\n",
    "test = val\n",
    "\n",
    "for i in range(train):\n",
    "    image, annotations = generate_image(train_dataset, placer)\n",
    "    annotations = normalise_annotations(annotations, image)\n",
    "    store_image(image, annotations, \"train\")\n",
    "\n",
    "for i in range(val):\n",
    "    image, annotations = generate_image(train_dataset, placer)\n",
    "    annotations = normalise_annotations(annotations, image)\n",
    "    store_image(image, annotations, \"val\")\n",
    "\n",
    "for i in range(val):\n",
    "    image, annotations = generate_image(test_dataset, placer)\n",
    "    annotations = normalise_annotations(annotations, image)\n",
    "    store_image(image, annotations, \"test\")\n"
   ]
  },
  {
   "cell_type": "markdown",
   "id": "ac8b3cad",
   "metadata": {},
   "source": [
    "## 1.2 Loading the data\n",
    "\n",
    "After we created the data, we also need to consider how to data is going to be loaded. Since we are using PyTorch, we will need to use a PyTorch Tensor."
   ]
  },
  {
   "cell_type": "code",
   "execution_count": 6,
   "id": "fda83d6f",
   "metadata": {},
   "outputs": [],
   "source": [
    "import os\n",
    "import torch\n",
    "from PIL import Image\n",
    "import torchvision.transforms as transforms"
   ]
  },
  {
   "cell_type": "code",
   "execution_count": 7,
   "id": "e59fcb9d",
   "metadata": {},
   "outputs": [],
   "source": [
    "def load_data(data_dir, split='train', img_size=224):\n",
    "    images_dir = os.path.join(data_dir, 'images', split)\n",
    "    label_dir = os.path.join(data_dir, 'labels', split)\n",
    "\n",
    "    transform = transforms.Compose([\n",
    "        transforms.Resize((img_size, img_size)),\n",
    "        transforms.ToTensor()\n",
    "    ])\n",
    "\n",
    "    images = []\n",
    "    annotations = []\n",
    "\n",
    "    image_files = [f for f in os.listdir(images_dir) if f.endswith('.jpg')]\n",
    "    image_files.sort()\n",
    "\n",
    "    for img_name in image_files:\n",
    "        img_path = os.path.join(images_dir, img_name)\n",
    "        image = Image.open(img_path).convert('RGB')\n",
    "        image = transform(image)\n",
    "\n",
    "        label_name = img_name.replace('.jpg', '.txt')\n",
    "        label_path = os.path.join(label_dir, label_name)\n",
    "\n",
    "        boxes = []\n",
    "        labels = []\n",
    "\n",
    "        if os.path.exists(label_path):\n",
    "            with open(label_path, 'r') as f:\n",
    "                for line in f:\n",
    "                    parts = line.strip().split()\n",
    "                    if len(parts) == 5:\n",
    "                        class_id = int(parts[0])\n",
    "                        x_center = float(parts[1])\n",
    "                        y_center = float(parts[2])\n",
    "                        width = float(parts[3])\n",
    "                        height = float(parts[4])\n",
    "\n",
    "                        labels.append(class_id)\n",
    "                        boxes.append([x_center, y_center, width, height])\n",
    "\n",
    "        images.append(image)\n",
    "        annotations.append({\n",
    "            'boxes': torch.tensor(boxes, dtype=torch.float32),\n",
    "            'labels': torch.tensor(labels, dtype=torch.long)\n",
    "        })\n",
    "    \n",
    "    return images, annotations"
   ]
  },
  {
   "cell_type": "code",
   "execution_count": 8,
   "id": "c111add5",
   "metadata": {},
   "outputs": [],
   "source": [
    "\"\"\" The DataLoader expects the data collated \"\"\"\n",
    "def collate_fn(batch):\n",
    "    images, targets = zip(*batch)\n",
    "    return torch.stack(images), list(targets)"
   ]
  },
  {
   "cell_type": "code",
   "execution_count": 59,
   "id": "de218929",
   "metadata": {},
   "outputs": [],
   "source": [
    "\"\"\" Loading the data and validating it \"\"\"\n",
    "\n",
    "from torch.utils.data import DataLoader\n",
    "\n",
    "BATCH_SIZE = 16\n",
    "\n",
    "# Loading the data into memory\n",
    "train_images, train_labels  = load_data('./data/mnist_detection_dataset', split='train')\n",
    "val_images, val_labels  = load_data('./data/mnist_detection_dataset', split='val')\n",
    "test_images, test_labels = load_data('./data/mnist_detection_dataset', split='test')\n",
    "\n",
    "train_dataset = list(zip(train_images, train_labels))\n",
    "val_dataset = list(zip(test_images, train_labels))\n",
    "test_dataset = list(zip(test_images, test_labels))\n",
    "\n",
    "train_loader = DataLoader(\n",
    "    dataset=train_dataset,\n",
    "    batch_size=BATCH_SIZE,\n",
    "    shuffle=True,\n",
    "    num_workers=0,\n",
    "    collate_fn=collate_fn\n",
    ")\n",
    "\n",
    "val_loader = DataLoader(\n",
    "    dataset=val_dataset,\n",
    "    batch_size=BATCH_SIZE,\n",
    "    shuffle=False,\n",
    "    num_workers=0,\n",
    "    collate_fn=collate_fn\n",
    ")\n",
    "\n",
    "test_loader = DataLoader(\n",
    "    dataset=test_dataset,\n",
    "    batch_size=BATCH_SIZE,\n",
    "    shuffle=False,\n",
    "    num_workers=0,\n",
    "    collate_fn=collate_fn\n",
    ")"
   ]
  },
  {
   "cell_type": "code",
   "execution_count": 63,
   "id": "2cfa9dd7",
   "metadata": {},
   "outputs": [
    {
     "data": {
      "image/png": "[encoded data removed]",
      "text/plain": [
       "<Figure size 640x480 with 1 Axes>"
      ]
     },
     "metadata": {},
     "output_type": "display_data"
    }
   ],
   "source": [
    "import matplotlib.pyplot as plt\n",
    "import matplotlib.patches as patches\n",
    "\n",
    "# Get a batch\n",
    "images, labels = next(iter(test_loader))\n",
    "\n",
    "# Select the first image and its annotations\n",
    "image = images[0].permute(1, 2, 0).numpy()  # [C, H, W] → [H, W, C]\n",
    "target = labels[0]\n",
    "boxes = target['boxes']\n",
    "classes = target['labels']\n",
    "\n",
    "# Image dimensions (needed to denormalize boxes)\n",
    "img_h, img_w, _ = image.shape\n",
    "\n",
    "# Create a plot\n",
    "fig, ax = plt.subplots(1)\n",
    "ax.imshow(image)\n",
    "ax.set_title(\"Image with Bounding Boxes\")\n",
    "\n",
    "# Draw each bounding box\n",
    "for box, cls in zip(boxes, classes):\n",
    "    # YOLO format: [x_center, y_center, width, height] in [0,1]\n",
    "    x_c, y_c, w, h = box\n",
    "\n",
    "    # Convert to pixel coordinates\n",
    "    x_c *= img_w\n",
    "    y_c *= img_h\n",
    "    w *= img_w\n",
    "    h *= img_h\n",
    "\n",
    "    # Convert center-based box to top-left corner format for matplotlib\n",
    "    x_min = x_c - w / 2\n",
    "    y_min = y_c - h / 2\n",
    "\n",
    "    # Create a rectangle patch\n",
    "    rect = patches.Rectangle((x_min, y_min), w, h, linewidth=2, edgecolor='green', facecolor='none')\n",
    "\n",
    "    # Add the rectangle to the plot\n",
    "    ax.add_patch(rect)\n",
    "\n",
    "    # Optionally add class label\n",
    "    ax.text(x_min, y_min - 5, str(cls.item()), color='white', fontsize=10,\n",
    "            bbox=dict(facecolor='green', edgecolor='none', pad=1))\n",
    "\n",
    "plt.axis('off')\n",
    "plt.show()\n"
   ]
  },
  {
   "cell_type": "markdown",
   "id": "0db7c81e",
   "metadata": {},
   "source": [
    "## 2. Object Detection architecture\n",
    "In classification the model takes one image and makes a prediction.\n",
    "In detection we also have to figure out where something is. We will need to first perform feature extraction, then detect and see if we can identify something. \n",
    "\n",
    "The backbone of Feature Extraction is CNN - Convolutional Neural Network which basically means that a Convolutional layer - or layers - perform feature extraction on the input.\n",
    "\n",
    "What should be understood is that Detection is a regression task. Reading the YOLO paper in more detail, we understand that the architecture consists of a CNN which is trained for feature extraction. After it is trained then we create add two fully connected layers to it which help detect."
   ]
  },
  {
   "cell_type": "markdown",
   "id": "536bef74",
   "metadata": {},
   "source": [
    "## 3. Convolutional Neural Networks\n",
    "CNNs are deep learning models which specialise on grid-like data, commonly images. They are able to identify patterns and objects through the process of convolution - same processed used in edge detection. CNNs are good feature extractors. \n",
    "They consist of:\n",
    "- **Convolutional layers:** These layers apply filters which act as feature detectors. The specialise on the detection of patterns, edge, curves and even textures. Due to parameter sharing through the layer, the same filter can be applied anywhere. \n",
    "- **Pooling layers:** A pooling layer - often Max Pooling or Average Pooling - is used to reduce the spacial dimensions of the feature map. This reduces computational intensity and helps make the network more resilient to variation in the inputs."
   ]
  },
  {
   "cell_type": "code",
   "execution_count": 64,
   "id": "94ebb6e2",
   "metadata": {},
   "outputs": [],
   "source": [
    "import torch\n",
    "import torch.nn as nn\n",
    "import torch.optim as optim\n",
    "import torchvision \n",
    "import torchvision.transforms as transforms\n",
    "from torch.utils.data import DataLoader"
   ]
  },
  {
   "cell_type": "code",
   "execution_count": 79,
   "id": "b8cc4f6a",
   "metadata": {},
   "outputs": [],
   "source": [
    "def create_cnn_classifier():\n",
    "    model = nn.Sequential(\n",
    "        # This is alot smaller than the YOLO CNN but we are only trying to identify numbers in a black bg\n",
    "        nn.Conv2d(1, 32, kernel_size=3, padding=1),\n",
    "        nn.ReLU(inplace=True),\n",
    "        nn.Conv2d(32, 32, kernel_size=3, padding=1),\n",
    "        nn.ReLU(inplace=True),\n",
    "        nn.MaxPool2d(kernel_size=2, stride=2),\n",
    "\n",
    "        nn.Conv2d(32, 64, kernel_size=3, padding=1),\n",
    "        nn.ReLU(inplace=True),\n",
    "        nn.Conv2d(64, 64, kernel_size=3, padding=1),\n",
    "        nn.ReLU(inplace=True),\n",
    "        nn.MaxPool2d(kernel_size=2, stride=2),\n",
    "\n",
    "        nn.Conv2d(64, 128, kernel_size=3, padding=1),\n",
    "        nn.ReLU(inplace=True),\n",
    "        nn.Conv2d(128, 128, kernel_size=3, padding=1),\n",
    "        nn.ReLU(inplace=True),\n",
    "\n",
    "        #Classification head\n",
    "        nn.AdaptiveAvgPool2d((1,1)),\n",
    "        nn.Flatten(),\n",
    "        nn.Linear(128, 64),\n",
    "        nn.ReLU(inplace=True),\n",
    "        nn.Linear(64, 10) # 10 MNIST classes\n",
    "    )\n",
    "\n",
    "    return model"
   ]
  },
  {
   "cell_type": "code",
   "execution_count": 73,
   "id": "fdb8a46a",
   "metadata": {},
   "outputs": [],
   "source": [
    "def load_mnist_data():\n",
    "    transform = transforms.Compose([\n",
    "        transforms.ToTensor(),\n",
    "        transforms.Normalize((0.1307,),(0.3081,))\n",
    "    ])\n",
    "\n",
    "    train_dataset = torchvision.datasets.MNIST(\n",
    "        root='data', train=True, download=False, transform=transform\n",
    "    )\n",
    "\n",
    "    test_dataset = torchvision.datasets.MNIST(\n",
    "        root='data', train=False, download=False, transform=transform\n",
    "    )\n",
    "\n",
    "    train_loader = DataLoader(train_dataset, batch_size=64, shuffle=True)\n",
    "    test_loader = DataLoader(test_dataset, batch_size=64, shuffle=False)\n",
    "\n",
    "    return train_loader, test_loader"
   ]
  },
  {
   "cell_type": "code",
   "execution_count": 96,
   "id": "9413d0b1",
   "metadata": {},
   "outputs": [],
   "source": [
    "def train_classification(model, train_loader, test_loader, epochs=10, device='cpu'):\n",
    "    model = model.to(device)\n",
    "    criterion = nn.CrossEntropyLoss()\n",
    "    optimiser = optim.Adam(model.parameters(), lr=0.001)\n",
    "\n",
    "    for epoch in range(epochs):\n",
    "        print(\"=\"*25)\n",
    "        print(f\"Epoch {epoch+1}\")\n",
    "\n",
    "        model.train() # Put model in training mode\n",
    "        train_loss = 0.0\n",
    "        train_correct = 0\n",
    "        train_total = 0\n",
    "\n",
    "        for batch_idx, (data, target) in enumerate(train_loader):\n",
    "            data, target = data.to(device), target.to(device)\n",
    "\n",
    "            optimiser.zero_grad()\n",
    "            output = model(data)\n",
    "            loss = criterion(output, target)\n",
    "            loss.backward()\n",
    "            optimiser.step()\n",
    "\n",
    "            train_loss += loss.item()\n",
    "            _, predicted = torch.max(output.data, 1)\n",
    "            train_total += target.size(0)\n",
    "            train_correct += (predicted == target).sum().item()\n",
    "\n",
    "            if batch_idx % 100 ==0:\n",
    "                print(f\"    Batch {batch_idx}, Loss: {loss.item():.4f}\")\n",
    "\n",
    "        model.eval()\n",
    "        test_loss = 0.0\n",
    "        test_correct = 0\n",
    "        test_total = 0\n",
    "\n",
    "        with torch.no_grad():\n",
    "            for data, target in test_loader:\n",
    "                data, target = data.to(device), target.to(device)\n",
    "                output = model(data)\n",
    "                loss = criterion(output, target)\n",
    "\n",
    "                test_loss += loss.item()\n",
    "                _, predicted = torch.max(output.data, 1)\n",
    "                test_total += target.size(0)\n",
    "                test_correct += (predicted == target).sum().item()\n",
    "\n",
    "        train_acc = 100 * train_correct / train_total\n",
    "        test_acc = 100 * test_correct / test_total\n",
    "\n",
    "        print(f\"    Train accuracy: {train_acc:.2f}%\")\n",
    "        print(f\"    Test accuracy: {test_acc:.2f}\")\n",
    "\n",
    "    return model"
   ]
  },
  {
   "cell_type": "code",
   "execution_count": 97,
   "id": "1853e9c6",
   "metadata": {},
   "outputs": [
    {
     "name": "stdout",
     "output_type": "stream",
     "text": [
      "=========================\n",
      "Epoch 1\n",
      "    Batch 0, Loss: 2.3039\n",
      "    Batch 100, Loss: 1.7447\n",
      "    Batch 200, Loss: 0.9204\n",
      "    Batch 300, Loss: 0.3730\n",
      "    Batch 400, Loss: 0.2458\n",
      "    Batch 500, Loss: 0.2022\n",
      "    Batch 600, Loss: 0.4185\n",
      "    Batch 700, Loss: 0.2596\n",
      "    Batch 800, Loss: 0.0828\n",
      "    Batch 900, Loss: 0.0666\n",
      "    Train accuracy: 82.25%\n",
      "    Test accuracy: 97.39\n",
      "=========================\n",
      "Epoch 2\n",
      "    Batch 0, Loss: 0.1306\n",
      "    Batch 100, Loss: 0.3193\n",
      "    Batch 200, Loss: 0.0655\n",
      "    Batch 300, Loss: 0.1452\n",
      "    Batch 400, Loss: 0.0278\n",
      "    Batch 500, Loss: 0.0587\n",
      "    Batch 600, Loss: 0.0149\n",
      "    Batch 700, Loss: 0.0407\n",
      "    Batch 800, Loss: 0.1712\n",
      "    Batch 900, Loss: 0.0636\n",
      "    Train accuracy: 97.63%\n",
      "    Test accuracy: 98.48\n",
      "=========================\n",
      "Epoch 3\n",
      "    Batch 0, Loss: 0.0496\n",
      "    Batch 100, Loss: 0.1025\n",
      "    Batch 200, Loss: 0.0581\n",
      "    Batch 300, Loss: 0.0105\n",
      "    Batch 400, Loss: 0.1858\n",
      "    Batch 500, Loss: 0.0283\n",
      "    Batch 600, Loss: 0.0179\n",
      "    Batch 700, Loss: 0.0033\n",
      "    Batch 800, Loss: 0.0025\n",
      "    Batch 900, Loss: 0.0283\n",
      "    Train accuracy: 98.47%\n",
      "    Test accuracy: 99.03\n",
      "=========================\n",
      "Epoch 4\n",
      "    Batch 0, Loss: 0.0192\n",
      "    Batch 100, Loss: 0.0642\n",
      "    Batch 200, Loss: 0.0371\n",
      "    Batch 300, Loss: 0.0528\n",
      "    Batch 400, Loss: 0.0161\n",
      "    Batch 500, Loss: 0.0024\n",
      "    Batch 600, Loss: 0.0073\n",
      "    Batch 700, Loss: 0.0200\n",
      "    Batch 800, Loss: 0.0038\n",
      "    Batch 900, Loss: 0.0240\n",
      "    Train accuracy: 98.70%\n",
      "    Test accuracy: 98.89\n",
      "=========================\n",
      "Epoch 5\n",
      "    Batch 0, Loss: 0.0194\n",
      "    Batch 100, Loss: 0.0140\n",
      "    Batch 200, Loss: 0.0038\n",
      "    Batch 300, Loss: 0.0197\n",
      "    Batch 400, Loss: 0.0069\n",
      "    Batch 500, Loss: 0.0020\n",
      "    Batch 600, Loss: 0.0039\n",
      "    Batch 700, Loss: 0.0032\n",
      "    Batch 800, Loss: 0.0257\n",
      "    Batch 900, Loss: 0.0147\n",
      "    Train accuracy: 98.99%\n",
      "    Test accuracy: 99.28\n"
     ]
    }
   ],
   "source": [
    "train_loader, test_loader = load_mnist_data()\n",
    "\n",
    "device = 'cuda' if torch.cuda.is_available() else 'cpu'\n",
    "model = create_cnn_classifier()\n",
    "\n",
    "trained_model = train_classification(model, train_loader, test_loader, epochs=5, device=device)"
   ]
  },
  {
   "cell_type": "code",
   "execution_count": 93,
   "id": "8104e03c",
   "metadata": {},
   "outputs": [],
   "source": [
    "def predict(model, image, device):\n",
    "    model.eval()\n",
    "    image = image.unsqueeze(0).to(device)\n",
    "\n",
    "    with torch.no_grad():\n",
    "        raw_outputs = model(image)\n",
    "        _, predicted = torch.max(raw_outputs.data, 1)\n",
    "\n",
    "    return predicted.item()        "
   ]
  },
  {
   "cell_type": "code",
   "execution_count": 98,
   "id": "80d3cfbb",
   "metadata": {},
   "outputs": [
    {
     "data": {
      "image/png": "[encoded data removed]",
      "text/plain": [
       "<Figure size 1200x600 with 10 Axes>"
      ]
     },
     "metadata": {},
     "output_type": "display_data"
    }
   ],
   "source": [
    "fig, axes = plt.subplots(2, 5, figsize=(12, 6))\n",
    "device = torch.device('cpu')\n",
    "\n",
    "test_iter = iter(test_loader)\n",
    "\n",
    "images, labels = next(test_iter)\n",
    "images, labels = images.to(device), labels.to(device)\n",
    "\n",
    "for i in range(10):\n",
    "    image = images[i]\n",
    "    label = labels[i].item()\n",
    "\n",
    "    prediction = predict(trained_model, image, device)\n",
    "\n",
    "    row = i // 5\n",
    "    col = i % 5\n",
    "\n",
    "    axes[row, col].imshow(image.cpu().squeeze().numpy(), cmap='gray')\n",
    "    if prediction == label:\n",
    "        title_color = 'green'\n",
    "    else:\n",
    "        title_color = 'red'\n",
    "\n",
    "    title = f\"Prediction: {prediction}\"\n",
    "    axes[row, col].set_title(title, color=title_color, fontsize=9)\n",
    "    axes[row, col].axis('off')\n",
    "\n",
    "plt.tight_layout()\n",
    "plt.show()"
   ]
  },
  {
   "cell_type": "markdown",
   "id": "760708c0",
   "metadata": {},
   "source": [
    "Now that the network is trained we need to cut off the layers that we need - everthing but the last 3 layers which are responsible for the classification task. Then we need to save the model weights. \n",
    "\n",
    "In theory, we have a convolutional neural net that can perform feature extraction on this dataset!"
   ]
  },
  {
   "cell_type": "code",
   "execution_count": 99,
   "id": "f23b2e65",
   "metadata": {},
   "outputs": [],
   "source": [
    "# Extract feature layers\n",
    "feature_layers = nn.Sequential(*list(trained_model.children())[:-4])\n",
    "\n",
    "# Save them so they can be loaded as pretrained head\n",
    "torch.save(feature_layers.state_dict(), './saved_models/pretrained_cnn.pth')"
   ]
  },
  {
   "cell_type": "markdown",
   "id": "9dca27e1",
   "metadata": {},
   "source": [
    "## 4. Adapt convolutional to detection\n",
    "Now that the convolutional network works, we can use the feature detection to train this further so it can detect the position of the data features\n",
    "\n",
    "! There is the chance that we have made a mistake on the first part of the dataset and we need to train the model to detect from images where multiple objects exists"
   ]
  },
  {
   "cell_type": "code",
   "execution_count": null,
   "id": "1a230a7b",
   "metadata": {},
   "outputs": [],
   "source": [
    "import torch\n",
    "import torch.nn as nn\n",
    "\n",
    "class YOLODetectionNet(nn.Module):\n",
    "    def __init__(self, feature_extractor, S=7, B=1, C=10):\n",
    "        super(YOLODetectionNet, self).__init__()\n",
    "        self.S = S\n",
    "        self.B = B\n",
    "        self.C = C\n",
    "\n",
    "        self.features=feature_extractor\n",
    "\n",
    "        self.classifier = nn.Sequential(\n",
    "            nn.Flatten(),  # Input: (128, 56, 56) = 401,408\n",
    "            nn.Linear(128 * 56 * 56, 4096),\n",
    "            nn.ReLU(inplace=True),\n",
    "            nn.Dropout(0.5),\n",
    "            nn.Linear(4096,  S * S * (B * 5 + C))\n",
    "        )\n",
    "\n",
    "    def forward(self, x):\n",
    "        x = self.features(x)\n",
    "        x = self.classifier(x)\n",
    "        x = x.view(-1, self.S, self.S, self.B * 5 + self.C)\n",
    "        return x"
   ]
  },
  {
   "cell_type": "code",
   "execution_count": 5,
   "id": "8fc1f49d",
   "metadata": {},
   "outputs": [
    {
     "ename": "AttributeError",
     "evalue": "'YOLODetectionNet' object has no attribute 'output_size'",
     "output_type": "error",
     "traceback": [
      "\u001b[31m---------------------------------------------------------------------------\u001b[39m",
      "\u001b[31mAttributeError\u001b[39m                            Traceback (most recent call last)",
      "\u001b[36mCell\u001b[39m\u001b[36m \u001b[39m\u001b[32mIn[5]\u001b[39m\u001b[32m, line 21\u001b[39m\n\u001b[32m      1\u001b[39m feature_layers = nn.Sequential(\n\u001b[32m      2\u001b[39m     nn.Conv2d(\u001b[32m1\u001b[39m, \u001b[32m32\u001b[39m, kernel_size=\u001b[32m3\u001b[39m, padding=\u001b[32m1\u001b[39m),\n\u001b[32m      3\u001b[39m     nn.ReLU(inplace=\u001b[38;5;28;01mTrue\u001b[39;00m),\n\u001b[32m   (...)\u001b[39m\u001b[32m     17\u001b[39m     nn.ReLU(inplace=\u001b[38;5;28;01mTrue\u001b[39;00m)\n\u001b[32m     18\u001b[39m )\n\u001b[32m     20\u001b[39m feature_layers.load_state_dict(torch.load(\u001b[33m'\u001b[39m\u001b[33m./saved_models/pretrained_cnn.pth\u001b[39m\u001b[33m'\u001b[39m))\n\u001b[32m---> \u001b[39m\u001b[32m21\u001b[39m model = \u001b[43mYOLODetectionNet\u001b[49m\u001b[43m(\u001b[49m\u001b[43mfeature_layers\u001b[49m\u001b[43m)\u001b[49m\n",
      "\u001b[36mCell\u001b[39m\u001b[36m \u001b[39m\u001b[32mIn[1]\u001b[39m\u001b[32m, line 18\u001b[39m, in \u001b[36mYOLODetectionNet.__init__\u001b[39m\u001b[34m(self, feature_extractor, S, B, C)\u001b[39m\n\u001b[32m      9\u001b[39m \u001b[38;5;28mself\u001b[39m.C = C\n\u001b[32m     11\u001b[39m \u001b[38;5;28mself\u001b[39m.features=feature_extractor\n\u001b[32m     13\u001b[39m \u001b[38;5;28mself\u001b[39m.classifier = nn.Sequential(\n\u001b[32m     14\u001b[39m     nn.Flatten(),  \u001b[38;5;66;03m# Input: (128, 56, 56) = 401,408\u001b[39;00m\n\u001b[32m     15\u001b[39m     nn.Linear(\u001b[32m128\u001b[39m * \u001b[32m56\u001b[39m * \u001b[32m56\u001b[39m, \u001b[32m4096\u001b[39m),\n\u001b[32m     16\u001b[39m     nn.ReLU(inplace=\u001b[38;5;28;01mTrue\u001b[39;00m),\n\u001b[32m     17\u001b[39m     nn.Dropout(\u001b[32m0.5\u001b[39m),\n\u001b[32m---> \u001b[39m\u001b[32m18\u001b[39m     nn.Linear(\u001b[32m4096\u001b[39m, \u001b[38;5;28;43mself\u001b[39;49m\u001b[43m.\u001b[49m\u001b[43moutput_size\u001b[49m)\n\u001b[32m     19\u001b[39m )\n",
      "\u001b[36mFile \u001b[39m\u001b[32mc:\\Users\\filip\\Documents\\GitHub\\MNIST\\venv\\Lib\\site-packages\\torch\\nn\\modules\\module.py:1962\u001b[39m, in \u001b[36mModule.__getattr__\u001b[39m\u001b[34m(self, name)\u001b[39m\n\u001b[32m   1960\u001b[39m     \u001b[38;5;28;01mif\u001b[39;00m name \u001b[38;5;129;01min\u001b[39;00m modules:\n\u001b[32m   1961\u001b[39m         \u001b[38;5;28;01mreturn\u001b[39;00m modules[name]\n\u001b[32m-> \u001b[39m\u001b[32m1962\u001b[39m \u001b[38;5;28;01mraise\u001b[39;00m \u001b[38;5;167;01mAttributeError\u001b[39;00m(\n\u001b[32m   1963\u001b[39m     \u001b[33mf\u001b[39m\u001b[33m\"\u001b[39m\u001b[33m'\u001b[39m\u001b[38;5;132;01m{\u001b[39;00m\u001b[38;5;28mtype\u001b[39m(\u001b[38;5;28mself\u001b[39m).\u001b[34m__name__\u001b[39m\u001b[38;5;132;01m}\u001b[39;00m\u001b[33m'\u001b[39m\u001b[33m object has no attribute \u001b[39m\u001b[33m'\u001b[39m\u001b[38;5;132;01m{\u001b[39;00mname\u001b[38;5;132;01m}\u001b[39;00m\u001b[33m'\u001b[39m\u001b[33m\"\u001b[39m\n\u001b[32m   1964\u001b[39m )\n",
      "\u001b[31mAttributeError\u001b[39m: 'YOLODetectionNet' object has no attribute 'output_size'"
     ]
    }
   ],
   "source": [
    "feature_layers = nn.Sequential(\n",
    "    nn.Conv2d(1, 32, kernel_size=3, padding=1),\n",
    "    nn.ReLU(inplace=True),\n",
    "    nn.Conv2d(32, 32, kernel_size=3, padding=1),\n",
    "    nn.ReLU(inplace=True),\n",
    "    nn.MaxPool2d(2, 2),\n",
    "\n",
    "    nn.Conv2d(32, 64, kernel_size=3, padding=1),\n",
    "    nn.ReLU(inplace=True),\n",
    "    nn.Conv2d(64, 64, kernel_size=3, padding=1),\n",
    "    nn.ReLU(inplace=True),\n",
    "    nn.MaxPool2d(2, 2),\n",
    "\n",
    "    nn.Conv2d(64, 128, kernel_size=3, padding=1),\n",
    "    nn.ReLU(inplace=True),\n",
    "    nn.Conv2d(128, 128, kernel_size=3, padding=1),\n",
    "    nn.ReLU(inplace=True)\n",
    ")\n",
    "\n",
    "feature_layers.load_state_dict(torch.load('./saved_models/pretrained_cnn.pth'))\n",
    "model = YOLODetectionNet(feature_layers)"
   ]
  }
 ],
 "metadata": {
  "kernelspec": {
   "display_name": "venv",
   "language": "python",
   "name": "python3"
  },
  "language_info": {
   "codemirror_mode": {
    "name": "ipython",
    "version": 3
   },
   "file_extension": ".py",
   "mimetype": "text/x-python",
   "name": "python",
   "nbconvert_exporter": "python",
   "pygments_lexer": "ipython3",
   "version": "3.11.9"
  }
 },
 "nbformat": 4,
 "nbformat_minor": 5
}
